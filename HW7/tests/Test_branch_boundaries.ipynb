{
 "cells": [
  {
   "cell_type": "code",
   "execution_count": 9,
   "metadata": {},
   "outputs": [],
   "source": [
    "import numpy as np\n",
    "from sympy import *\n",
    "from scipy.optimize import linprog\n",
    "from copy import deepcopy\n",
    "\n",
    "def branche_boundaries(F: str, constraint: list):\n",
    "    '''\n",
    "    inputs:\n",
    "        F: function as a string (example: '2*x1 + 6*x2')\n",
    "        constraint: restrictions in the form of a list of strings (example: ['x1 - x2 <= 4', '-3*x1 <= 17'])\n",
    "    outputs:\n",
    "        tuple: (point, result of function);\n",
    "        example: (array([1., 5.]), 4.00000000000000)\n",
    "    '''\n",
    "    \n",
    "    exp = sympify(F)\n",
    "    \n",
    "    count_constraint = int(input('Введите количество ограничений: '))\n",
    "    \n",
    "    symbs = sorted(list(exp.free_symbols), key=lambda x: str(x))\n",
    "    \n",
    "    c = [float(exp.coeff(symb)) for symb in symbs]\n",
    "    \n",
    "    dic_constr = {i: [] for i in range(1, count_constraint+1)}\n",
    "    for i in range(len(constraint)):\n",
    "        ineq = sympify(constraint[i])\n",
    "        ex = ineq.args[0]\n",
    "        dic_constr[i+1] = [float(ex.coeff(symb)) for symb in symbs]\n",
    "\n",
    "    A = [v for v in dic_constr.values()]\n",
    "    \n",
    "    for i in range(len(symbs)):\n",
    "        lst = [0.0]*len(symbs)\n",
    "        lst[i] = -1.0\n",
    "        A.append(lst)\n",
    "    \n",
    "    b = []\n",
    "    for ineq in constraint:\n",
    "        ine = sympify(ineq)\n",
    "        b.append(ine.args[1])\n",
    "    \n",
    "    b += [0]*len(symbs)\n",
    "    \n",
    "    res = linprog(c, A_ub=A, b_ub=b, method='simplex')['x']\n",
    "    \n",
    "    if all(str(i).split('.')[-1] == '0' for i in res) \\\n",
    "            and all([sympify(const).subs(list(zip(symbs, res))) for const in constraint]):\n",
    "        return res\n",
    "    \n",
    "    try:\n",
    "        res_zlp1 = ZLP1(F, constraint, res, symbs, A, b, c)\n",
    "    except:\n",
    "        res_zlp1 = None\n",
    "        \n",
    "    try:\n",
    "        res_zlp2 = ZLP2(F, constraint, res, symbs, A, b, c)\n",
    "    except:\n",
    "        res_zlp2 = None\n",
    "    \n",
    "    if res_zlp1 is not None and res_zlp2 is not None:\n",
    "        if exp.subs(list(zip(symbs, res_zlp1))) <= exp.subs(list(zip(symbs, res_zlp2))):\n",
    "            return res_zlp1, exp.subs(list(zip(symbs, res_zlp1)))\n",
    "        else:\n",
    "            return res_zlp2, exp.subs(list(zip(symbs, res_zlp2)))\n",
    "    elif res_zlp1 is not None and res_zlp2 is None:\n",
    "        return res_zlp1, exp.subs(list(zip(symbs, res_zlp1)))\n",
    "    elif res_zlp1 is None and res_zlp2 is not None:\n",
    "        return res_zlp2, exp.subs(list(zip(symbs, res_zlp2)))\n",
    "    else:\n",
    "        return None\n",
    "    \n",
    "def ZLP1(func, constraint, res_last, symbs, A, b, c):\n",
    "    i = np.argmax(res_last%1)\n",
    "    whole = int(res_last[i])\n",
    "    lst = [0]*len(symbs)\n",
    "    lst[i] = 1\n",
    "    \n",
    "    \n",
    "    A_new = deepcopy(A)\n",
    "    b_new = deepcopy(b)\n",
    "    A_new.append(lst)\n",
    "    b_new.append(whole)\n",
    "\n",
    "    res = linprog(c, A_ub=A_new, b_ub=b_new, method='simplex')['x']\n",
    "    \n",
    "    \n",
    "    if all(str(i).split('.')[-1] == '0' for i in res) \\\n",
    "            and all([sympify(const).subs(list(zip(symbs, res))) for const in constraint]):\n",
    "        return res\n",
    "    \n",
    "    res_zlp3 = ZLP1(func, constraint, res, symbs, A_new, b_new, c)\n",
    "    res_zlp4 = ZLP2(func, constraint, res, symbs, A_new, b_new, c)\n",
    "    \n",
    "    \n",
    "    to_return = []\n",
    "    if all(str(i).split('.')[-1] == '0' for i in res_zlp3) \\\n",
    "            and all([sympify(const).subs(list(zip(symbs, res_zlp3))) for const in constraint]):\n",
    "        to_return.append(res_zlp3)\n",
    "    if all(str(i).split('.')[-1] == '0' for i in res_zlp4) \\\n",
    "            and all([sympify(const).subs(list(zip(symbs, res_zlp4))) for const in constraint]):\n",
    "        to_return.append(res_zlp4)\n",
    "        \n",
    "    if to_return:\n",
    "        return to_return\n",
    "    else:\n",
    "        return None\n",
    "\n",
    "def ZLP2(func, constraint, res_last, symbs, A, b, c):\n",
    "    i = np.argmax(res_last%1)\n",
    "    whole = -int(res_last[i])-1 \n",
    "    lst = [0]*len(symbs)\n",
    "    lst[i] = 1\n",
    "    \n",
    "    A_new = deepcopy(A)\n",
    "    b_new = deepcopy(b)\n",
    "    A_new.append(lst)\n",
    "    b_new.append(whole)\n",
    "\n",
    "    res = linprog(c, A_ub=A_new, b_ub=b_new, method='simplex')['x']\n",
    "    \n",
    "    if all(str(i).split('.')[-1] == '0' for i in res) \\\n",
    "            and all([sympify(const).subs(list(zip(symbs, res))) for const in constraint]):\n",
    "        return res\n",
    "    \n",
    "    res_zlp5 = ZLP1(func, constraint, res, symbs, A_new, b_new, c)\n",
    "    res_zlp6 = ZLP2(func, constraint, res, symbs, A_new, b_new, c)\n",
    "    \n",
    "    to_return = []\n",
    "    if all(str(i).split('.')[-1] == '0' for i in res_zlp5) \\\n",
    "            and all([sympify(const).subs(list(zip(symbs, res_zlp5))) for const in constraint]):\n",
    "        to_return.append(res_zlp5)\n",
    "    if all(str(i).split('.')[-1] == '0' for i in res_zlp5) \\\n",
    "            and all([sympify(const).subs(list(zip(symbs, res_zlp5))) for const in constraint]):\n",
    "        to_return.append(res_zlp6)\n",
    "        \n",
    "    if to_return:\n",
    "        return to_return\n",
    "    else:\n",
    "        return None"
   ]
  },
  {
   "cell_type": "code",
   "execution_count": 10,
   "metadata": {},
   "outputs": [
    {
     "name": "stdout",
     "output_type": "stream",
     "text": [
      "Help on function branche_boundaries in module __main__:\n",
      "\n",
      "branche_boundaries(F: str, constraint: list)\n",
      "    inputs:\n",
      "        F: function as a string (example: '2*x1 + 6*x2')\n",
      "        constraint: restrictions in the form of a list of strings (example: ['x1 - x2 <= 4', '-3*x1 <= 17'])\n",
      "    outputs:\n",
      "        tuple: (point, result of function);\n",
      "        example: (array([1., 5.]), 4.00000000000000)\n",
      "\n"
     ]
    }
   ],
   "source": [
    "help(branche_boundaries)"
   ]
  },
  {
   "cell_type": "markdown",
   "metadata": {},
   "source": [
    "# 1 - [6, 0] +"
   ]
  },
  {
   "cell_type": "code",
   "execution_count": 11,
   "metadata": {},
   "outputs": [
    {
     "name": "stdout",
     "output_type": "stream",
     "text": [
      "Введите количество ограничений: 2\n"
     ]
    },
    {
     "data": {
      "text/plain": [
       "(array([6., 0.]), -12.0000000000000)"
      ]
     },
     "execution_count": 11,
     "metadata": {},
     "output_type": "execute_result"
    }
   ],
   "source": [
    "branche_boundaries(F='-2*x1 + 8*x2', constraint=['x1 + 2*x2 <= 16', '6*x1 + 2*x2 <= 40'])"
   ]
  },
  {
   "cell_type": "markdown",
   "metadata": {},
   "source": [
    "# 2 - [1, 1] - ядро умерло"
   ]
  },
  {
   "cell_type": "code",
   "execution_count": 12,
   "metadata": {},
   "outputs": [
    {
     "name": "stdout",
     "output_type": "stream",
     "text": [
      "Введите количество ограничений: 3\n"
     ]
    }
   ],
   "source": [
    "branche_boundaries(F='x1 + x2', constraint=['x1 - 2*x2 <= 0', '-x1 + x2 <= 1', '-x1 + 0*x2 <= -0.75'])"
   ]
  },
  {
   "attachments": {
    "image.png": {
     "image/png": "[encoded data removed]"
    }
   },
   "cell_type": "markdown",
   "metadata": {},
   "source": [
    "![image.png](attachment:image.png)"
   ]
  },
  {
   "cell_type": "markdown",
   "metadata": {},
   "source": [
    "# 3 - [2, 1] +"
   ]
  },
  {
   "cell_type": "code",
   "execution_count": 13,
   "metadata": {},
   "outputs": [
    {
     "name": "stdout",
     "output_type": "stream",
     "text": [
      "Введите количество ограничений: 3\n"
     ]
    },
    {
     "data": {
      "text/plain": [
       "(array([2., 1.]), -3.00000000000000)"
      ]
     },
     "execution_count": 13,
     "metadata": {},
     "output_type": "execute_result"
    }
   ],
   "source": [
    "branche_boundaries(F='-2*x1 + x2', constraint=['x1 - 2*x2 <= 0', '-x1 + x2 <= 1', 'x1 + x2 <= 3.2']) # если последнее условие\n",
    "                                                                                                     # убрать, то не имеет \n",
    "                                                                                                     # допустимых решений"
   ]
  },
  {
   "cell_type": "markdown",
   "metadata": {},
   "source": [
    "# 4 - [1, 4] +"
   ]
  },
  {
   "cell_type": "code",
   "execution_count": 14,
   "metadata": {},
   "outputs": [
    {
     "name": "stdout",
     "output_type": "stream",
     "text": [
      "Введите количество ограничений: 2\n"
     ]
    },
    {
     "data": {
      "text/plain": [
       "array([1., 4.])"
      ]
     },
     "execution_count": 14,
     "metadata": {},
     "output_type": "execute_result"
    }
   ],
   "source": [
    "branche_boundaries(F='-10*x1 - x2', constraint=['x1 - 0.5*x2 <= -1', '2*x1 + x2 <= 6'])"
   ]
  },
  {
   "cell_type": "markdown",
   "metadata": {},
   "source": [
    "# 5 - [0, 0] +"
   ]
  },
  {
   "cell_type": "code",
   "execution_count": 15,
   "metadata": {},
   "outputs": [
    {
     "name": "stdout",
     "output_type": "stream",
     "text": [
      "Введите количество ограничений: 3\n"
     ]
    },
    {
     "data": {
      "text/plain": [
       "array([0., 0.])"
      ]
     },
     "execution_count": 15,
     "metadata": {},
     "output_type": "execute_result"
    }
   ],
   "source": [
    "branche_boundaries(F='3*x1 + x2', constraint=['x1 + x2 <= 3.5', 'x1 + 0*x2 <= 2.25', '0*x1 + x2 <= 3'])"
   ]
  },
  {
   "cell_type": "markdown",
   "metadata": {},
   "source": [
    "# 6 - [1, 3] +"
   ]
  },
  {
   "cell_type": "code",
   "execution_count": 18,
   "metadata": {},
   "outputs": [
    {
     "name": "stdout",
     "output_type": "stream",
     "text": [
      "Введите количество ограничений: 2\n"
     ]
    },
    {
     "data": {
      "text/plain": [
       "(array([1., 3.]), -14.0000000000000)"
      ]
     },
     "execution_count": 18,
     "metadata": {},
     "output_type": "execute_result"
    }
   ],
   "source": [
    "branche_boundaries(F='-2*x1 - 4*x2', constraint=['2*x1 + x2 <= 6.4', 'x1 + 3*x2 <= 10'])"
   ]
  },
  {
   "cell_type": "markdown",
   "metadata": {},
   "source": [
    "# 7 - [1, 3] +"
   ]
  },
  {
   "cell_type": "code",
   "execution_count": 25,
   "metadata": {},
   "outputs": [
    {
     "name": "stdout",
     "output_type": "stream",
     "text": [
      "Введите количество ограничений: 2\n"
     ]
    },
    {
     "data": {
      "text/plain": [
       "(array([1., 3.]), -2.00000000000000)"
      ]
     },
     "execution_count": 25,
     "metadata": {},
     "output_type": "execute_result"
    }
   ],
   "source": [
    "branche_boundaries(F='x1 - x2', constraint=['-x1 + 0.5*x2 <= 0.5', '2*x1 + x2 <= 6'])"
   ]
  },
  {
   "cell_type": "markdown",
   "metadata": {},
   "source": [
    "# 8 - [2, 0] +"
   ]
  },
  {
   "cell_type": "code",
   "execution_count": 26,
   "metadata": {},
   "outputs": [
    {
     "name": "stdout",
     "output_type": "stream",
     "text": [
      "Введите количество ограничений: 3\n"
     ]
    },
    {
     "data": {
      "text/plain": [
       "(array([2., 0.]), -20.0000000000000)"
      ]
     },
     "execution_count": 26,
     "metadata": {},
     "output_type": "execute_result"
    }
   ],
   "source": [
    "branche_boundaries(F='-10*x1 - x2', constraint=['4*x1 + 5*x2 <= 20', '-x1 + 0.5*x2 <= 1', '0.5*x1 - x2 <= 1'])"
   ]
  },
  {
   "cell_type": "markdown",
   "metadata": {},
   "source": [
    "# 9 - [3, 1] - "
   ]
  },
  {
   "cell_type": "code",
   "execution_count": 29,
   "metadata": {},
   "outputs": [
    {
     "name": "stdout",
     "output_type": "stream",
     "text": [
      "Введите количество ограничений: 3\n"
     ]
    },
    {
     "data": {
      "text/plain": [
       "(array([3., 0.]), -9.00000000000000)"
      ]
     },
     "execution_count": 29,
     "metadata": {},
     "output_type": "execute_result"
    }
   ],
   "source": [
    "branche_boundaries(F='-3*x1 - 2*x2', constraint=['-x1 + 2*x2 <= 4', '3*x1 + 5*x2 <= 15', 'x1 - x2 <= 3'])"
   ]
  },
  {
   "cell_type": "markdown",
   "metadata": {},
   "source": [
    "# 10 - [0, 7] +"
   ]
  },
  {
   "cell_type": "code",
   "execution_count": 30,
   "metadata": {},
   "outputs": [
    {
     "name": "stdout",
     "output_type": "stream",
     "text": [
      "Введите количество ограничений: 2\n"
     ]
    },
    {
     "data": {
      "text/plain": [
       "array([0., 7.])"
      ]
     },
     "execution_count": 30,
     "metadata": {},
     "output_type": "execute_result"
    }
   ],
   "source": [
    "branche_boundaries(F='x1 - x2', constraint=['x1 - 2*x2 <= -4', '3*x1 + 2*x2 <= 14'])"
   ]
  },
  {
   "cell_type": "code",
   "execution_count": null,
   "metadata": {},
   "outputs": [],
   "source": []
  }
 ],
 "metadata": {
  "kernelspec": {
   "display_name": "Python 3",
   "language": "python",
   "name": "python3"
  },
  "language_info": {
   "codemirror_mode": {
    "name": "ipython",
    "version": 3
   },
   "file_extension": ".py",
   "mimetype": "text/x-python",
   "name": "python",
   "nbconvert_exporter": "python",
   "pygments_lexer": "ipython3",
   "version": "3.7.3"
  }
 },
 "nbformat": 4,
 "nbformat_minor": 2
}
