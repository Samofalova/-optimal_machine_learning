{
 "cells": [
  {
   "cell_type": "code",
   "execution_count": 29,
   "id": "33e482d3",
   "metadata": {},
   "outputs": [],
   "source": [
    "import numpy as np\n",
    "import plotly.graph_objects as go\n",
    "import matplotlib.pyplot as plt\n",
    "import matplotlib.ticker as ticker\n",
    "from sympy import *\n",
    "from scipy.optimize import linprog\n",
    "from copy import deepcopy\n",
    "from sympy.plotting import plot\n",
    "from sympy.plotting import plot3d\n",
    "from IPython.display import display, HTML\n",
    "\n",
    "\n",
    "def branche_boundaries(F: str, constraint: list):\n",
    "    '''\n",
    "    inputs:\n",
    "        F: function as a string (example: '2*x1 + 6*x2')\n",
    "        constraint: restrictions in the form of a list of strings (example: ['x1 - x2 <= 4', '-3*x1 <= 17'])\n",
    "    outputs:\n",
    "        tuple: (point, result of function);\n",
    "        example: (array([1., 5.]), 4.00000000000000)\n",
    "    '''\n",
    "    dataset = []\n",
    "    exp = sympify(F)\n",
    "    \n",
    "    \n",
    "    count_constraint = int(input('Введите количество ограничений: '))\n",
    "    \n",
    "    symbs = sorted(list(exp.free_symbols), key=lambda x: str(x))\n",
    "    \n",
    "    c = [float(exp.coeff(symb)) for symb in symbs]\n",
    "    \n",
    "    dic_constr = {i: [] for i in range(1, count_constraint+1)}\n",
    "    for i in range(len(constraint)):\n",
    "        ineq = sympify(constraint[i])\n",
    "        ex = ineq.args[0]\n",
    "        dic_constr[i+1] = [float(ex.coeff(symb)) for symb in symbs]\n",
    "\n",
    "    A = [v for v in dic_constr.values()]\n",
    "    \n",
    "    for i in range(len(symbs)):\n",
    "        lst = [0.0]*len(symbs)\n",
    "        lst[i] = -1.0\n",
    "        A.append(lst)\n",
    "    \n",
    "    b = []\n",
    "    for ineq in constraint:\n",
    "        ine = sympify(ineq)\n",
    "        b.append(ine.args[1])\n",
    "    \n",
    "    b += [0]*len(symbs)\n",
    "    \n",
    "    res = linprog(c, A_ub=A, b_ub=b, method='simplex')['x']\n",
    "    dataset.append([res, exp.subs(list(zip(symbs, res)))])\n",
    "    \n",
    "    if all(str(i).split('.')[-1] == '0' for i in res) \\\n",
    "            and all([sympify(const).subs(list(zip(symbs, res))) for const in constraint]):\n",
    "        # draw \n",
    "        first_point = solve([exp, constraint[0].replace('<=', '-')], list(symbs), dict=True)\n",
    "        \n",
    "        return res, exp.subs(list(zip(symbs, res))), dataset, first_point\n",
    "    \n",
    "    try:\n",
    "        res_zlp1 = ZLP1(F, constraint, res, symbs, A, b, c, dataset)\n",
    "    except:\n",
    "        res_zlp1 = None\n",
    "        \n",
    "    try:\n",
    "        res_zlp2 = ZLP2(F, constraint, res, symbs, A, b, c, dataset)\n",
    "    except:\n",
    "        res_zlp2 = None\n",
    "    \n",
    "    if res_zlp1 is not None and res_zlp2 is not None:\n",
    "        if exp.subs(list(zip(symbs, res_zlp1))) <= exp.subs(list(zip(symbs, res_zlp2))):\n",
    "            return res_zlp1, exp.subs(list(zip(symbs, res_zlp1))), dataset\n",
    "        else:\n",
    "            return res_zlp2, exp.subs(list(zip(symbs, res_zlp2))), dataset\n",
    "    elif res_zlp1 is not None and res_zlp2 is None:\n",
    "        return res_zlp1, exp.subs(list(zip(symbs, res_zlp1))), dataset\n",
    "    elif res_zlp1 is None and res_zlp2 is not None:\n",
    "        return res_zlp2, exp.subs(list(zip(symbs, res_zlp2))), dataset\n",
    "    else:\n",
    "        return None, dataset\n",
    "    \n",
    "def ZLP1(func, constraint, res_last, symbs, A, b, c, dataset):\n",
    "    i = np.argmax(res_last%1)\n",
    "    whole = int(res_last[i])\n",
    "    lst = [0]*len(symbs)\n",
    "    lst[i] = 1\n",
    "    \n",
    "    \n",
    "    A_new = deepcopy(A)\n",
    "    b_new = deepcopy(b)\n",
    "    A_new.append(lst)\n",
    "    b_new.append(whole)\n",
    "\n",
    "    res = linprog(c, A_ub=A_new, b_ub=b_new, method='simplex')['x']\n",
    "    dataset.append([list(res[0])], res[1])\n",
    "    \n",
    "    \n",
    "    if all(str(i).split('.')[-1] == '0' for i in res) \\\n",
    "            and all([sympify(const).subs(list(zip(symbs, res))) for const in constraint]):\n",
    "        return res\n",
    "    \n",
    "    res_zlp3 = ZLP1(func, constraint, res, symbs, A_new, b_new, c)\n",
    "    res_zlp4 = ZLP2(func, constraint, res, symbs, A_new, b_new, c)\n",
    "    \n",
    "    \n",
    "    to_return = []\n",
    "    if all(str(i).split('.')[-1] == '0' for i in res_zlp3) \\\n",
    "            and all([sympify(const).subs(list(zip(symbs, res_zlp3))) for const in constraint]):\n",
    "        to_return.append(res_zlp3)\n",
    "    if all(str(i).split('.')[-1] == '0' for i in res_zlp4) \\\n",
    "            and all([sympify(const).subs(list(zip(symbs, res_zlp4))) for const in constraint]):\n",
    "        to_return.append(res_zlp4)\n",
    "        \n",
    "    if to_return:\n",
    "        return to_return\n",
    "    else:\n",
    "        return None\n",
    "\n",
    "def ZLP2(func, constraint, res_last, symbs, A, b, c, dataset):\n",
    "    i = np.argmax(res_last%1)\n",
    "    whole = -int(res_last[i])-1 \n",
    "    lst = [0]*len(symbs)\n",
    "    lst[i] = 1\n",
    "    \n",
    "    A_new = deepcopy(A)\n",
    "    b_new = deepcopy(b)\n",
    "    A_new.append(lst)\n",
    "    b_new.append(whole)\n",
    "\n",
    "    res = linprog(c, A_ub=A_new, b_ub=b_new, method='simplex')['x']\n",
    "    dataset.append([list(res[0])], res[1])\n",
    "    \n",
    "    if all(str(i).split('.')[-1] == '0' for i in res) \\\n",
    "            and all([sympify(const).subs(list(zip(symbs, res))) for const in constraint]):\n",
    "        return res\n",
    "    \n",
    "    res_zlp5 = ZLP1(func, constraint, res, symbs, A_new, b_new, c)\n",
    "    res_zlp6 = ZLP2(func, constraint, res, symbs, A_new, b_new, c)\n",
    "    \n",
    "    to_return = []\n",
    "    if all(str(i).split('.')[-1] == '0' for i in res_zlp5) \\\n",
    "            and all([sympify(const).subs(list(zip(symbs, res_zlp5))) for const in constraint]):\n",
    "        to_return.append(res_zlp5)\n",
    "    if all(str(i).split('.')[-1] == '0' for i in res_zlp5) \\\n",
    "            and all([sympify(const).subs(list(zip(symbs, res_zlp5))) for const in constraint]):\n",
    "        to_return.append(res_zlp6)\n",
    "        \n",
    "    if to_return:\n",
    "        return to_return\n",
    "    else:\n",
    "        return None"
   ]
  },
  {
   "cell_type": "code",
   "execution_count": 30,
   "id": "9e31958a",
   "metadata": {},
   "outputs": [
    {
     "name": "stdout",
     "output_type": "stream",
     "text": [
      "Введите количество ограничений: 2\n"
     ]
    }
   ],
   "source": [
    "example = branche_boundaries('-x + y - 1', ['2*x + 3*y <= 12', '3*x + 2*y <= 12'])"
   ]
  },
  {
   "cell_type": "code",
   "execution_count": 31,
   "id": "4dd59616",
   "metadata": {},
   "outputs": [],
   "source": [
    "x = np.linspace(0, 9/5)"
   ]
  },
  {
   "cell_type": "code",
   "execution_count": 32,
   "id": "2070f11c",
   "metadata": {},
   "outputs": [],
   "source": [
    "y = 1 + x"
   ]
  },
  {
   "cell_type": "code",
   "execution_count": 33,
   "id": "f92075fb",
   "metadata": {},
   "outputs": [],
   "source": [
    "x2 = np.linspace(9/5, 12/5)"
   ]
  },
  {
   "cell_type": "code",
   "execution_count": 34,
   "id": "a20a5568",
   "metadata": {},
   "outputs": [],
   "source": [
    "y2 = (-2*x2 + 12)/3"
   ]
  },
  {
   "cell_type": "code",
   "execution_count": 35,
   "id": "4595638d",
   "metadata": {},
   "outputs": [],
   "source": [
    "x3 = np.linspace(12/5, 4)"
   ]
  },
  {
   "cell_type": "code",
   "execution_count": 36,
   "id": "64e2ad4a",
   "metadata": {},
   "outputs": [],
   "source": [
    "y3 = (-3*x3+12)/2"
   ]
  },
  {
   "cell_type": "code",
   "execution_count": 37,
   "id": "989441ad",
   "metadata": {},
   "outputs": [],
   "source": [
    "x_test = list(x) + list(x2) + list(x3)\n",
    "y_test = list(y) + list(y2) + list(y3)"
   ]
  },
  {
   "cell_type": "code",
   "execution_count": 38,
   "id": "55a2a188",
   "metadata": {},
   "outputs": [],
   "source": [
    "limit_y1 = list(np.linspace(0, min(y)))\n",
    "limit_x1 = [0]*len(limit_y1)"
   ]
  },
  {
   "cell_type": "code",
   "execution_count": 39,
   "id": "b38f27ab",
   "metadata": {},
   "outputs": [],
   "source": [
    "limit_x2 = list(np.linspace(0, max(x_test)))\n",
    "limit_y2 = [0]*len(limit_x2)\n"
   ]
  },
  {
   "cell_type": "code",
   "execution_count": 40,
   "id": "fe007010",
   "metadata": {},
   "outputs": [],
   "source": [
    "coordinates = {'x': [], \n",
    "               'y': []}"
   ]
  },
  {
   "cell_type": "code",
   "execution_count": 41,
   "id": "fe003543",
   "metadata": {},
   "outputs": [],
   "source": [
    "x_min, x_max = int(min(x_test)), int(max(x_test))\n",
    "y_min, y_max = int(min(y_test)), int(max(y_test))"
   ]
  },
  {
   "cell_type": "code",
   "execution_count": 42,
   "id": "f7a649ca",
   "metadata": {},
   "outputs": [],
   "source": [
    "x_test.append(limit_x2)\n",
    "y_test.append(limit_y2)"
   ]
  },
  {
   "cell_type": "code",
   "execution_count": 43,
   "id": "6c958483",
   "metadata": {},
   "outputs": [],
   "source": [
    "x_test = x_test[:-1]"
   ]
  },
  {
   "cell_type": "code",
   "execution_count": 44,
   "id": "902b26bc",
   "metadata": {},
   "outputs": [],
   "source": [
    "y_test = y_test[:-1]"
   ]
  },
  {
   "cell_type": "code",
   "execution_count": 45,
   "id": "12e310d1",
   "metadata": {},
   "outputs": [],
   "source": [
    "all_points = list(zip(x_test, y_test))\n",
    "for i in range(x_min, x_max + 1):\n",
    "    if i == 0:\n",
    "        max_y = max(limit_y1)\n",
    "        for j in range(int(max_y) + 1):\n",
    "            if j % 1 == 0:\n",
    "                coordinates['x'].append(i)\n",
    "                coordinates['y'].append(j)\n",
    "    else:\n",
    "        max_y = 0\n",
    "        for points in all_points:\n",
    "            if round(points[0]) > 0:\n",
    "                if int(points[0]) == i:\n",
    "                    if points[1] > max_y:\n",
    "                        max_y = points[1]\n",
    "                        \n",
    "        for j in range(x_min, int(max_y) + 1):\n",
    "            if j % 1 == 0:\n",
    "                coordinates['x'].append(i)\n",
    "                coordinates['y'].append(j)\n",
    "        \n",
    "        if i > int(max_y):\n",
    "            coordinates['x'].append(i)\n",
    "            coordinates['y'].append(int(max_y))\n",
    "        "
   ]
  },
  {
   "cell_type": "code",
   "execution_count": 46,
   "id": "1c559b62",
   "metadata": {},
   "outputs": [],
   "source": [
    "last_line = {'x': [], 'y': []}\n",
    "\n",
    "for i in range(len(coordinates['x'])):\n",
    "    if i == len(coordinates['x']) - 1:\n",
    "        last_line['x'].append(coordinates['x'][i])\n",
    "        last_line['y'].append(coordinates['y'][i])\n",
    "        break\n",
    "    \n",
    "    if coordinates['x'][i + 1] == coordinates['x'][i]:\n",
    "        continue\n",
    "    else:\n",
    "        last_line['x'].append(coordinates['x'][i])\n",
    "        last_line['y'].append(coordinates['y'][i])\n",
    "    \n",
    "    \n",
    "    \n",
    "    "
   ]
  },
  {
   "cell_type": "code",
   "execution_count": 47,
   "id": "2495cf87",
   "metadata": {},
   "outputs": [
    {
     "data": {
      "image/png": "[encoded data removed]",
      "text/plain": [
       "<Figure size 432x288 with 1 Axes>"
      ]
     },
     "metadata": {
      "needs_background": "light"
     },
     "output_type": "display_data"
    }
   ],
   "source": [
    "# plot\n",
    "fig, ax = plt.subplots()\n",
    "\n",
    "for axis in [ax.xaxis, ax.yaxis]:\n",
    "    axis.set_major_locator(ticker.MaxNLocator(integer=True))\n",
    "\n",
    "ax.plot(limit_x1, limit_y1, linewidth=2.0, c='b')\n",
    "ax.plot(x_test, y_test, linewidth=2.0, c='b') \n",
    "ax.plot(limit_x2, limit_y2, linewidth=2.0, c='b')\n",
    "ax.scatter(coordinates['x'], coordinates['y'], c='r')\n",
    "ax.plot(last_line['x'], last_line['y'], linewidth=2.0, c='r')\n",
    "ax.grid()\n",
    "\n",
    "plt.show()"
   ]
  },
  {
   "cell_type": "code",
   "execution_count": null,
   "id": "7bea4f9d",
   "metadata": {},
   "outputs": [],
   "source": []
  }
 ],
 "metadata": {
  "kernelspec": {
   "display_name": "Python 3 (ipykernel)",
   "language": "python",
   "name": "python3"
  },
  "language_info": {
   "codemirror_mode": {
    "name": "ipython",
    "version": 3
   },
   "file_extension": ".py",
   "mimetype": "text/x-python",
   "name": "python",
   "nbconvert_exporter": "python",
   "pygments_lexer": "ipython3",
   "version": "3.9.7"
  }
 },
 "nbformat": 4,
 "nbformat_minor": 5
}
