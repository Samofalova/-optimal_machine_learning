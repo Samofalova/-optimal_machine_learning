{
 "cells": [
  {
   "cell_type": "code",
   "execution_count": 1,
   "metadata": {},
   "outputs": [],
   "source": [
    "from regression import *"
   ]
  },
  {
   "cell_type": "markdown",
   "metadata": {},
   "source": [
    "#### 1. x разные, y = const (точки располагаются на прямой, параллельной оси OX)\n",
    "#### A0 = y = const, a1, a2… = 0 (или оооочень маленькое число)"
   ]
  },
  {
   "cell_type": "code",
   "execution_count": 2,
   "metadata": {},
   "outputs": [
    {
     "data": {
      "text/html": [
       "<div>\n",
       "<style scoped>\n",
       "    .dataframe tbody tr th:only-of-type {\n",
       "        vertical-align: middle;\n",
       "    }\n",
       "\n",
       "    .dataframe tbody tr th {\n",
       "        vertical-align: top;\n",
       "    }\n",
       "\n",
       "    .dataframe thead th {\n",
       "        text-align: right;\n",
       "    }\n",
       "</style>\n",
       "<table border=\"1\" class=\"dataframe\">\n",
       "  <thead>\n",
       "    <tr style=\"text-align: right;\">\n",
       "      <th></th>\n",
       "      <th>Y</th>\n",
       "      <th>X1</th>\n",
       "      <th>X2</th>\n",
       "      <th>X3</th>\n",
       "      <th>X4</th>\n",
       "      <th>X5</th>\n",
       "    </tr>\n",
       "  </thead>\n",
       "  <tbody>\n",
       "    <tr>\n",
       "      <th>0</th>\n",
       "      <td>16.4</td>\n",
       "      <td>-48.07</td>\n",
       "      <td>59.76</td>\n",
       "      <td>-80.29</td>\n",
       "      <td>99.53</td>\n",
       "      <td>83.74</td>\n",
       "    </tr>\n",
       "    <tr>\n",
       "      <th>1</th>\n",
       "      <td>16.4</td>\n",
       "      <td>70.02</td>\n",
       "      <td>-14.37</td>\n",
       "      <td>-25.18</td>\n",
       "      <td>40.82</td>\n",
       "      <td>53.19</td>\n",
       "    </tr>\n",
       "    <tr>\n",
       "      <th>2</th>\n",
       "      <td>16.4</td>\n",
       "      <td>11.54</td>\n",
       "      <td>94.68</td>\n",
       "      <td>-60.22</td>\n",
       "      <td>89.67</td>\n",
       "      <td>69.94</td>\n",
       "    </tr>\n",
       "  </tbody>\n",
       "</table>\n",
       "</div>"
      ],
      "text/plain": [
       "      Y     X1     X2     X3     X4     X5\n",
       "0  16.4 -48.07  59.76 -80.29  99.53  83.74\n",
       "1  16.4  70.02 -14.37 -25.18  40.82  53.19\n",
       "2  16.4  11.54  94.68 -60.22  89.67  69.94"
      ]
     },
     "execution_count": 2,
     "metadata": {},
     "output_type": "execute_result"
    }
   ],
   "source": [
    "data = pd.read_excel('Data.xlsx', sheet_name = '1')\n",
    "data.head(3)"
   ]
  },
  {
   "cell_type": "code",
   "execution_count": 3,
   "metadata": {},
   "outputs": [
    {
     "name": "stdout",
     "output_type": "stream",
     "text": [
      "К сожалению, мы не можем построить график, так как размерность пространства признаков велика.\n"
     ]
    },
    {
     "data": {
      "text/plain": [
       "{'func': 'К сожалению, мы не можем вывести функцию для множественной полиномиальной регрессии',\n",
       " 'weights': array([0., 0., 0., 0., 0., 0.]),\n",
       " 'bias': 16.4}"
      ]
     },
     "execution_count": 3,
     "metadata": {},
     "output_type": "execute_result"
    }
   ],
   "source": [
    "X, y = data[['X1', 'X2']], data['Y']\n",
    "res = poly_regression(X, y, degree = 2, draw=True)  # , regularization = 'Student'\n",
    "res"
   ]
  },
  {
   "cell_type": "code",
   "execution_count": 4,
   "metadata": {},
   "outputs": [
    {
     "name": "stdout",
     "output_type": "stream",
     "text": [
      "К сожалению, мы не можем построить график, так как размерность пространства признаков велика.\n"
     ]
    },
    {
     "data": {
      "text/plain": [
       "{'func': 'К сожалению, мы не можем вывести функцию для множественной полиномиальной регрессии',\n",
       " 'weights': array([0., 0., 0., 0., 0., 0., 0., 0., 0., 0.]),\n",
       " 'bias': 16.4}"
      ]
     },
     "execution_count": 4,
     "metadata": {},
     "output_type": "execute_result"
    }
   ],
   "source": [
    "X, y = data[['X1', 'X2', 'X3']], data['Y']\n",
    "res = poly_regression(X, y, degree = 2, draw=True)  # , regularization = 'L1'\n",
    "res"
   ]
  },
  {
   "cell_type": "code",
   "execution_count": 5,
   "metadata": {},
   "outputs": [
    {
     "name": "stdout",
     "output_type": "stream",
     "text": [
      "К сожалению, мы не можем построить график, так как размерность пространства признаков велика.\n"
     ]
    },
    {
     "data": {
      "text/plain": [
       "{'func': 'К сожалению, мы не можем вывести функцию для множественной полиномиальной регрессии',\n",
       " 'weights': array([0., 0., 0., 0., 0., 0., 0., 0., 0., 0., 0., 0., 0., 0., 0.]),\n",
       " 'bias': 16.4}"
      ]
     },
     "execution_count": 5,
     "metadata": {},
     "output_type": "execute_result"
    }
   ],
   "source": [
    "X, y = data[['X1', 'X4', 'X5', 'X3']], data['Y']\n",
    "res = poly_regression(X, y, degree = 2, draw=True)  # , regularization = 'L2'\n",
    "res"
   ]
  },
  {
   "cell_type": "code",
   "execution_count": 6,
   "metadata": {},
   "outputs": [
    {
     "name": "stdout",
     "output_type": "stream",
     "text": [
      "К сожалению, мы не можем построить график, так как размерность пространства признаков велика.\n"
     ]
    },
    {
     "data": {
      "text/plain": [
       "{'func': 'К сожалению, мы не можем вывести функцию для множественной полиномиальной регрессии',\n",
       " 'weights': array([0., 0., 0., 0., 0., 0., 0., 0., 0., 0., 0., 0., 0., 0., 0., 0., 0.,\n",
       "        0., 0., 0., 0.]),\n",
       " 'bias': 16.4}"
      ]
     },
     "execution_count": 6,
     "metadata": {},
     "output_type": "execute_result"
    }
   ],
   "source": [
    "X, y = data[['X1', 'X2', 'X3', 'X4', 'X5']], data['Y']\n",
    "res = poly_regression(X, y, degree = 2, draw=True)\n",
    "res"
   ]
  },
  {
   "cell_type": "code",
   "execution_count": 7,
   "metadata": {},
   "outputs": [
    {
     "name": "stdout",
     "output_type": "stream",
     "text": [
      "К сожалению, мы не можем построить график, так как размерность пространства признаков велика.\n"
     ]
    },
    {
     "data": {
      "text/plain": [
       "{'func': '16.4 + 0.0*x1^1 + 0.0*x1^2',\n",
       " 'weights': array([0., 0., 0.]),\n",
       " 'bias': 16.4}"
      ]
     },
     "execution_count": 7,
     "metadata": {},
     "output_type": "execute_result"
    }
   ],
   "source": [
    "res = poly_regression(X.iloc[:, 1], y, degree = 2, draw=True)  # , regularization = 'L1'\n",
    "res"
   ]
  },
  {
   "cell_type": "code",
   "execution_count": 8,
   "metadata": {},
   "outputs": [
    {
     "name": "stdout",
     "output_type": "stream",
     "text": [
      "К сожалению, мы не можем построить график, так как размерность пространства признаков велика.\n"
     ]
    },
    {
     "data": {
      "text/plain": [
       "{'func': '16.4 + 0.0*x1^1 + 0.0*x1^2',\n",
       " 'weights': array([0., 0., 0.]),\n",
       " 'bias': 16.4}"
      ]
     },
     "execution_count": 8,
     "metadata": {},
     "output_type": "execute_result"
    }
   ],
   "source": [
    "res = poly_regression(X.iloc[:, 4], y, degree = 2, draw=True)  # , regularization = 'L2'\n",
    "res"
   ]
  },
  {
   "cell_type": "code",
   "execution_count": 9,
   "metadata": {},
   "outputs": [
    {
     "name": "stdout",
     "output_type": "stream",
     "text": [
      "К сожалению, мы не можем построить график, так как размерность пространства признаков велика.\n"
     ]
    },
    {
     "data": {
      "text/plain": [
       "{'func': '16.4 + 0.0*x1^1 + 0.0*x1^2',\n",
       " 'weights': array([0., 0., 0.]),\n",
       " 'bias': 16.4}"
      ]
     },
     "execution_count": 9,
     "metadata": {},
     "output_type": "execute_result"
    }
   ],
   "source": [
    "res = poly_regression(X.iloc[:, 2], y, degree = 2, draw=True)  # , regularization = 'Student'\n",
    "res"
   ]
  },
  {
   "cell_type": "code",
   "execution_count": 10,
   "metadata": {},
   "outputs": [
    {
     "name": "stdout",
     "output_type": "stream",
     "text": [
      "К сожалению, мы не можем построить график, так как размерность пространства признаков велика.\n"
     ]
    },
    {
     "data": {
      "text/plain": [
       "{'func': '16.4 + 0.0*x1^1 + 0.0*x1^2',\n",
       " 'weights': array([0., 0., 0.]),\n",
       " 'bias': 16.4}"
      ]
     },
     "execution_count": 10,
     "metadata": {},
     "output_type": "execute_result"
    }
   ],
   "source": [
    "res = poly_regression(X.iloc[:, 3], y, degree = 2, draw=True)\n",
    "res"
   ]
  },
  {
   "cell_type": "markdown",
   "metadata": {},
   "source": [
    "#### 2. x = const, y = const"
   ]
  },
  {
   "cell_type": "code",
   "execution_count": 11,
   "metadata": {},
   "outputs": [
    {
     "data": {
      "text/html": [
       "<div>\n",
       "<style scoped>\n",
       "    .dataframe tbody tr th:only-of-type {\n",
       "        vertical-align: middle;\n",
       "    }\n",
       "\n",
       "    .dataframe tbody tr th {\n",
       "        vertical-align: top;\n",
       "    }\n",
       "\n",
       "    .dataframe thead th {\n",
       "        text-align: right;\n",
       "    }\n",
       "</style>\n",
       "<table border=\"1\" class=\"dataframe\">\n",
       "  <thead>\n",
       "    <tr style=\"text-align: right;\">\n",
       "      <th></th>\n",
       "      <th>Y</th>\n",
       "      <th>X1</th>\n",
       "      <th>X2</th>\n",
       "      <th>X3</th>\n",
       "      <th>X4</th>\n",
       "      <th>X5</th>\n",
       "    </tr>\n",
       "  </thead>\n",
       "  <tbody>\n",
       "    <tr>\n",
       "      <th>0</th>\n",
       "      <td>91.19</td>\n",
       "      <td>0</td>\n",
       "      <td>158.6</td>\n",
       "      <td>13</td>\n",
       "      <td>-648</td>\n",
       "      <td>-7.5</td>\n",
       "    </tr>\n",
       "    <tr>\n",
       "      <th>1</th>\n",
       "      <td>91.19</td>\n",
       "      <td>0</td>\n",
       "      <td>158.6</td>\n",
       "      <td>13</td>\n",
       "      <td>-648</td>\n",
       "      <td>-7.5</td>\n",
       "    </tr>\n",
       "    <tr>\n",
       "      <th>2</th>\n",
       "      <td>91.19</td>\n",
       "      <td>0</td>\n",
       "      <td>158.6</td>\n",
       "      <td>13</td>\n",
       "      <td>-648</td>\n",
       "      <td>-7.5</td>\n",
       "    </tr>\n",
       "  </tbody>\n",
       "</table>\n",
       "</div>"
      ],
      "text/plain": [
       "       Y  X1     X2  X3   X4   X5\n",
       "0  91.19   0  158.6  13 -648 -7.5\n",
       "1  91.19   0  158.6  13 -648 -7.5\n",
       "2  91.19   0  158.6  13 -648 -7.5"
      ]
     },
     "execution_count": 11,
     "metadata": {},
     "output_type": "execute_result"
    }
   ],
   "source": [
    "data = pd.read_excel('Data.xlsx', sheet_name = '2')\n",
    "data.head(3)"
   ]
  },
  {
   "cell_type": "code",
   "execution_count": 12,
   "metadata": {},
   "outputs": [
    {
     "ename": "LinearlyDependent",
     "evalue": "Присутствуют линейно зависимые признаки. Мы не можем применить МНК.",
     "output_type": "error",
     "traceback": [
      "\u001b[1;31m---------------------------------------------------------------------------\u001b[0m",
      "\u001b[1;31mLinearlyDependent\u001b[0m                         Traceback (most recent call last)",
      "\u001b[1;32m<ipython-input-12-d0f8e2b3afaf>\u001b[0m in \u001b[0;36m<module>\u001b[1;34m\u001b[0m\n\u001b[0;32m      1\u001b[0m \u001b[0mX\u001b[0m\u001b[1;33m,\u001b[0m \u001b[0my\u001b[0m \u001b[1;33m=\u001b[0m \u001b[0mdata\u001b[0m\u001b[1;33m[\u001b[0m\u001b[1;33m[\u001b[0m\u001b[1;34m'X1'\u001b[0m\u001b[1;33m,\u001b[0m \u001b[1;34m'X2'\u001b[0m\u001b[1;33m]\u001b[0m\u001b[1;33m]\u001b[0m\u001b[1;33m,\u001b[0m \u001b[0mdata\u001b[0m\u001b[1;33m[\u001b[0m\u001b[1;34m'Y'\u001b[0m\u001b[1;33m]\u001b[0m\u001b[1;33m\u001b[0m\u001b[1;33m\u001b[0m\u001b[0m\n\u001b[1;32m----> 2\u001b[1;33m \u001b[0mres\u001b[0m \u001b[1;33m=\u001b[0m \u001b[0mpoly_regression\u001b[0m\u001b[1;33m(\u001b[0m\u001b[0mX\u001b[0m\u001b[1;33m,\u001b[0m \u001b[0my\u001b[0m\u001b[1;33m,\u001b[0m \u001b[0mdegree\u001b[0m \u001b[1;33m=\u001b[0m \u001b[1;36m2\u001b[0m\u001b[1;33m,\u001b[0m \u001b[0mdraw\u001b[0m\u001b[1;33m=\u001b[0m\u001b[1;32mTrue\u001b[0m\u001b[1;33m)\u001b[0m  \u001b[1;31m# , regularization = 'Student'\u001b[0m\u001b[1;33m\u001b[0m\u001b[1;33m\u001b[0m\u001b[0m\n\u001b[0m\u001b[0;32m      3\u001b[0m \u001b[0mres\u001b[0m\u001b[1;33m\u001b[0m\u001b[1;33m\u001b[0m\u001b[0m\n",
      "\u001b[1;32m~\\Downloads\\Aksen\\regression.py\u001b[0m in \u001b[0;36mpoly_regression\u001b[1;34m(X, y, degree, tol, regularization, alpha, draw)\u001b[0m\n\u001b[0;32m    155\u001b[0m \u001b[1;33m\u001b[0m\u001b[0m\n\u001b[0;32m    156\u001b[0m     \u001b[1;32mif\u001b[0m \u001b[0mX\u001b[0m\u001b[1;33m.\u001b[0m\u001b[0mshape\u001b[0m\u001b[1;33m[\u001b[0m\u001b[1;36m1\u001b[0m\u001b[1;33m]\u001b[0m \u001b[1;33m>=\u001b[0m \u001b[1;36m2\u001b[0m \u001b[1;32mand\u001b[0m \u001b[0mnp\u001b[0m\u001b[1;33m.\u001b[0m\u001b[0mlinalg\u001b[0m\u001b[1;33m.\u001b[0m\u001b[0mdet\u001b[0m\u001b[1;33m(\u001b[0m\u001b[0mX\u001b[0m\u001b[1;33m.\u001b[0m\u001b[0mT\u001b[0m \u001b[1;33m@\u001b[0m \u001b[0mX\u001b[0m\u001b[1;33m)\u001b[0m \u001b[1;33m==\u001b[0m \u001b[1;36m0\u001b[0m\u001b[1;33m:\u001b[0m\u001b[1;33m\u001b[0m\u001b[1;33m\u001b[0m\u001b[0m\n\u001b[1;32m--> 157\u001b[1;33m         \u001b[1;32mraise\u001b[0m \u001b[0mLinearlyDependent\u001b[0m\u001b[1;33m\u001b[0m\u001b[1;33m\u001b[0m\u001b[0m\n\u001b[0m\u001b[0;32m    158\u001b[0m     \u001b[0mreg\u001b[0m \u001b[1;33m=\u001b[0m \u001b[0mLinearRegression\u001b[0m\u001b[1;33m(\u001b[0m\u001b[1;33m)\u001b[0m\u001b[1;33m.\u001b[0m\u001b[0mfit\u001b[0m\u001b[1;33m(\u001b[0m\u001b[0mX_poly\u001b[0m\u001b[1;33m,\u001b[0m \u001b[0my\u001b[0m\u001b[1;33m)\u001b[0m\u001b[1;33m\u001b[0m\u001b[1;33m\u001b[0m\u001b[0m\n\u001b[0;32m    159\u001b[0m \u001b[1;33m\u001b[0m\u001b[0m\n",
      "\u001b[1;31mLinearlyDependent\u001b[0m: Присутствуют линейно зависимые признаки. Мы не можем применить МНК."
     ]
    }
   ],
   "source": [
    "X, y = data[['X1', 'X2']], data['Y']\n",
    "res = poly_regression(X, y, degree = 2, draw=True)  # , regularization = 'Student'\n",
    "res"
   ]
  },
  {
   "cell_type": "code",
   "execution_count": 13,
   "metadata": {},
   "outputs": [
    {
     "ename": "LinearlyDependent",
     "evalue": "Присутствуют линейно зависимые признаки. Мы не можем применить МНК.",
     "output_type": "error",
     "traceback": [
      "\u001b[1;31m---------------------------------------------------------------------------\u001b[0m",
      "\u001b[1;31mLinearlyDependent\u001b[0m                         Traceback (most recent call last)",
      "\u001b[1;32m<ipython-input-13-fb131ba99a43>\u001b[0m in \u001b[0;36m<module>\u001b[1;34m\u001b[0m\n\u001b[0;32m      1\u001b[0m \u001b[0mX\u001b[0m\u001b[1;33m,\u001b[0m \u001b[0my\u001b[0m \u001b[1;33m=\u001b[0m \u001b[0mdata\u001b[0m\u001b[1;33m[\u001b[0m\u001b[1;33m[\u001b[0m\u001b[1;34m'X1'\u001b[0m\u001b[1;33m,\u001b[0m \u001b[1;34m'X2'\u001b[0m\u001b[1;33m,\u001b[0m \u001b[1;34m'X3'\u001b[0m\u001b[1;33m]\u001b[0m\u001b[1;33m]\u001b[0m\u001b[1;33m,\u001b[0m \u001b[0mdata\u001b[0m\u001b[1;33m[\u001b[0m\u001b[1;34m'Y'\u001b[0m\u001b[1;33m]\u001b[0m\u001b[1;33m\u001b[0m\u001b[1;33m\u001b[0m\u001b[0m\n\u001b[1;32m----> 2\u001b[1;33m \u001b[0mres\u001b[0m \u001b[1;33m=\u001b[0m \u001b[0mpoly_regression\u001b[0m\u001b[1;33m(\u001b[0m\u001b[0mX\u001b[0m\u001b[1;33m,\u001b[0m \u001b[0my\u001b[0m\u001b[1;33m,\u001b[0m \u001b[0mdegree\u001b[0m \u001b[1;33m=\u001b[0m \u001b[1;36m2\u001b[0m\u001b[1;33m,\u001b[0m \u001b[0mdraw\u001b[0m\u001b[1;33m=\u001b[0m\u001b[1;32mTrue\u001b[0m\u001b[1;33m)\u001b[0m  \u001b[1;31m# , regularization = 'L1'\u001b[0m\u001b[1;33m\u001b[0m\u001b[1;33m\u001b[0m\u001b[0m\n\u001b[0m\u001b[0;32m      3\u001b[0m \u001b[0mres\u001b[0m\u001b[1;33m\u001b[0m\u001b[1;33m\u001b[0m\u001b[0m\n",
      "\u001b[1;32m~\\Downloads\\Aksen\\regression.py\u001b[0m in \u001b[0;36mpoly_regression\u001b[1;34m(X, y, degree, tol, regularization, alpha, draw)\u001b[0m\n\u001b[0;32m    155\u001b[0m \u001b[1;33m\u001b[0m\u001b[0m\n\u001b[0;32m    156\u001b[0m     \u001b[1;32mif\u001b[0m \u001b[0mX\u001b[0m\u001b[1;33m.\u001b[0m\u001b[0mshape\u001b[0m\u001b[1;33m[\u001b[0m\u001b[1;36m1\u001b[0m\u001b[1;33m]\u001b[0m \u001b[1;33m>=\u001b[0m \u001b[1;36m2\u001b[0m \u001b[1;32mand\u001b[0m \u001b[0mnp\u001b[0m\u001b[1;33m.\u001b[0m\u001b[0mlinalg\u001b[0m\u001b[1;33m.\u001b[0m\u001b[0mdet\u001b[0m\u001b[1;33m(\u001b[0m\u001b[0mX\u001b[0m\u001b[1;33m.\u001b[0m\u001b[0mT\u001b[0m \u001b[1;33m@\u001b[0m \u001b[0mX\u001b[0m\u001b[1;33m)\u001b[0m \u001b[1;33m==\u001b[0m \u001b[1;36m0\u001b[0m\u001b[1;33m:\u001b[0m\u001b[1;33m\u001b[0m\u001b[1;33m\u001b[0m\u001b[0m\n\u001b[1;32m--> 157\u001b[1;33m         \u001b[1;32mraise\u001b[0m \u001b[0mLinearlyDependent\u001b[0m\u001b[1;33m\u001b[0m\u001b[1;33m\u001b[0m\u001b[0m\n\u001b[0m\u001b[0;32m    158\u001b[0m     \u001b[0mreg\u001b[0m \u001b[1;33m=\u001b[0m \u001b[0mLinearRegression\u001b[0m\u001b[1;33m(\u001b[0m\u001b[1;33m)\u001b[0m\u001b[1;33m.\u001b[0m\u001b[0mfit\u001b[0m\u001b[1;33m(\u001b[0m\u001b[0mX_poly\u001b[0m\u001b[1;33m,\u001b[0m \u001b[0my\u001b[0m\u001b[1;33m)\u001b[0m\u001b[1;33m\u001b[0m\u001b[1;33m\u001b[0m\u001b[0m\n\u001b[0;32m    159\u001b[0m \u001b[1;33m\u001b[0m\u001b[0m\n",
      "\u001b[1;31mLinearlyDependent\u001b[0m: Присутствуют линейно зависимые признаки. Мы не можем применить МНК."
     ]
    }
   ],
   "source": [
    "X, y = data[['X1', 'X2', 'X3']], data['Y']\n",
    "res = poly_regression(X, y, degree = 2, draw=True)  # , regularization = 'L1'\n",
    "res"
   ]
  },
  {
   "cell_type": "code",
   "execution_count": 14,
   "metadata": {},
   "outputs": [
    {
     "ename": "LinearlyDependent",
     "evalue": "Присутствуют линейно зависимые признаки. Мы не можем применить МНК.",
     "output_type": "error",
     "traceback": [
      "\u001b[1;31m---------------------------------------------------------------------------\u001b[0m",
      "\u001b[1;31mLinearlyDependent\u001b[0m                         Traceback (most recent call last)",
      "\u001b[1;32m<ipython-input-14-b01ac77765a4>\u001b[0m in \u001b[0;36m<module>\u001b[1;34m\u001b[0m\n\u001b[0;32m      1\u001b[0m \u001b[0mX\u001b[0m\u001b[1;33m,\u001b[0m \u001b[0my\u001b[0m \u001b[1;33m=\u001b[0m \u001b[0mdata\u001b[0m\u001b[1;33m[\u001b[0m\u001b[1;33m[\u001b[0m\u001b[1;34m'X1'\u001b[0m\u001b[1;33m,\u001b[0m \u001b[1;34m'X4'\u001b[0m\u001b[1;33m,\u001b[0m \u001b[1;34m'X5'\u001b[0m\u001b[1;33m,\u001b[0m \u001b[1;34m'X3'\u001b[0m\u001b[1;33m]\u001b[0m\u001b[1;33m]\u001b[0m\u001b[1;33m,\u001b[0m \u001b[0mdata\u001b[0m\u001b[1;33m[\u001b[0m\u001b[1;34m'Y'\u001b[0m\u001b[1;33m]\u001b[0m\u001b[1;33m\u001b[0m\u001b[1;33m\u001b[0m\u001b[0m\n\u001b[1;32m----> 2\u001b[1;33m \u001b[0mres\u001b[0m \u001b[1;33m=\u001b[0m \u001b[0mpoly_regression\u001b[0m\u001b[1;33m(\u001b[0m\u001b[0mX\u001b[0m\u001b[1;33m,\u001b[0m \u001b[0my\u001b[0m\u001b[1;33m,\u001b[0m \u001b[0mdegree\u001b[0m \u001b[1;33m=\u001b[0m \u001b[1;36m2\u001b[0m\u001b[1;33m,\u001b[0m \u001b[0mdraw\u001b[0m\u001b[1;33m=\u001b[0m\u001b[1;32mTrue\u001b[0m\u001b[1;33m)\u001b[0m   \u001b[1;31m# , regularization = 'L2'\u001b[0m\u001b[1;33m\u001b[0m\u001b[1;33m\u001b[0m\u001b[0m\n\u001b[0m\u001b[0;32m      3\u001b[0m \u001b[0mres\u001b[0m\u001b[1;33m\u001b[0m\u001b[1;33m\u001b[0m\u001b[0m\n",
      "\u001b[1;32m~\\Downloads\\Aksen\\regression.py\u001b[0m in \u001b[0;36mpoly_regression\u001b[1;34m(X, y, degree, tol, regularization, alpha, draw)\u001b[0m\n\u001b[0;32m    155\u001b[0m \u001b[1;33m\u001b[0m\u001b[0m\n\u001b[0;32m    156\u001b[0m     \u001b[1;32mif\u001b[0m \u001b[0mX\u001b[0m\u001b[1;33m.\u001b[0m\u001b[0mshape\u001b[0m\u001b[1;33m[\u001b[0m\u001b[1;36m1\u001b[0m\u001b[1;33m]\u001b[0m \u001b[1;33m>=\u001b[0m \u001b[1;36m2\u001b[0m \u001b[1;32mand\u001b[0m \u001b[0mnp\u001b[0m\u001b[1;33m.\u001b[0m\u001b[0mlinalg\u001b[0m\u001b[1;33m.\u001b[0m\u001b[0mdet\u001b[0m\u001b[1;33m(\u001b[0m\u001b[0mX\u001b[0m\u001b[1;33m.\u001b[0m\u001b[0mT\u001b[0m \u001b[1;33m@\u001b[0m \u001b[0mX\u001b[0m\u001b[1;33m)\u001b[0m \u001b[1;33m==\u001b[0m \u001b[1;36m0\u001b[0m\u001b[1;33m:\u001b[0m\u001b[1;33m\u001b[0m\u001b[1;33m\u001b[0m\u001b[0m\n\u001b[1;32m--> 157\u001b[1;33m         \u001b[1;32mraise\u001b[0m \u001b[0mLinearlyDependent\u001b[0m\u001b[1;33m\u001b[0m\u001b[1;33m\u001b[0m\u001b[0m\n\u001b[0m\u001b[0;32m    158\u001b[0m     \u001b[0mreg\u001b[0m \u001b[1;33m=\u001b[0m \u001b[0mLinearRegression\u001b[0m\u001b[1;33m(\u001b[0m\u001b[1;33m)\u001b[0m\u001b[1;33m.\u001b[0m\u001b[0mfit\u001b[0m\u001b[1;33m(\u001b[0m\u001b[0mX_poly\u001b[0m\u001b[1;33m,\u001b[0m \u001b[0my\u001b[0m\u001b[1;33m)\u001b[0m\u001b[1;33m\u001b[0m\u001b[1;33m\u001b[0m\u001b[0m\n\u001b[0;32m    159\u001b[0m \u001b[1;33m\u001b[0m\u001b[0m\n",
      "\u001b[1;31mLinearlyDependent\u001b[0m: Присутствуют линейно зависимые признаки. Мы не можем применить МНК."
     ]
    }
   ],
   "source": [
    "X, y = data[['X1', 'X4', 'X5', 'X3']], data['Y']\n",
    "res = poly_regression(X, y, degree = 2, draw=True)   # , regularization = 'L2'\n",
    "res"
   ]
  },
  {
   "cell_type": "code",
   "execution_count": 15,
   "metadata": {},
   "outputs": [
    {
     "ename": "LinearlyDependent",
     "evalue": "Присутствуют линейно зависимые признаки. Мы не можем применить МНК.",
     "output_type": "error",
     "traceback": [
      "\u001b[1;31m---------------------------------------------------------------------------\u001b[0m",
      "\u001b[1;31mLinearlyDependent\u001b[0m                         Traceback (most recent call last)",
      "\u001b[1;32m<ipython-input-15-d153b2a8f517>\u001b[0m in \u001b[0;36m<module>\u001b[1;34m\u001b[0m\n\u001b[0;32m      1\u001b[0m \u001b[0mX\u001b[0m\u001b[1;33m,\u001b[0m \u001b[0my\u001b[0m \u001b[1;33m=\u001b[0m \u001b[0mdata\u001b[0m\u001b[1;33m[\u001b[0m\u001b[1;33m[\u001b[0m\u001b[1;34m'X1'\u001b[0m\u001b[1;33m,\u001b[0m \u001b[1;34m'X2'\u001b[0m\u001b[1;33m,\u001b[0m \u001b[1;34m'X4'\u001b[0m\u001b[1;33m]\u001b[0m\u001b[1;33m]\u001b[0m\u001b[1;33m,\u001b[0m \u001b[0mdata\u001b[0m\u001b[1;33m[\u001b[0m\u001b[1;34m'Y'\u001b[0m\u001b[1;33m]\u001b[0m\u001b[1;33m\u001b[0m\u001b[1;33m\u001b[0m\u001b[0m\n\u001b[1;32m----> 2\u001b[1;33m \u001b[0mres\u001b[0m \u001b[1;33m=\u001b[0m \u001b[0mpoly_regression\u001b[0m\u001b[1;33m(\u001b[0m\u001b[0mX\u001b[0m\u001b[1;33m,\u001b[0m \u001b[0my\u001b[0m\u001b[1;33m,\u001b[0m \u001b[0mdegree\u001b[0m \u001b[1;33m=\u001b[0m \u001b[1;36m2\u001b[0m\u001b[1;33m,\u001b[0m \u001b[0mdraw\u001b[0m\u001b[1;33m=\u001b[0m\u001b[1;32mTrue\u001b[0m\u001b[1;33m)\u001b[0m\u001b[1;33m\u001b[0m\u001b[1;33m\u001b[0m\u001b[0m\n\u001b[0m\u001b[0;32m      3\u001b[0m \u001b[0mres\u001b[0m\u001b[1;33m\u001b[0m\u001b[1;33m\u001b[0m\u001b[0m\n",
      "\u001b[1;32m~\\Downloads\\Aksen\\regression.py\u001b[0m in \u001b[0;36mpoly_regression\u001b[1;34m(X, y, degree, tol, regularization, alpha, draw)\u001b[0m\n\u001b[0;32m    155\u001b[0m \u001b[1;33m\u001b[0m\u001b[0m\n\u001b[0;32m    156\u001b[0m     \u001b[1;32mif\u001b[0m \u001b[0mX\u001b[0m\u001b[1;33m.\u001b[0m\u001b[0mshape\u001b[0m\u001b[1;33m[\u001b[0m\u001b[1;36m1\u001b[0m\u001b[1;33m]\u001b[0m \u001b[1;33m>=\u001b[0m \u001b[1;36m2\u001b[0m \u001b[1;32mand\u001b[0m \u001b[0mnp\u001b[0m\u001b[1;33m.\u001b[0m\u001b[0mlinalg\u001b[0m\u001b[1;33m.\u001b[0m\u001b[0mdet\u001b[0m\u001b[1;33m(\u001b[0m\u001b[0mX\u001b[0m\u001b[1;33m.\u001b[0m\u001b[0mT\u001b[0m \u001b[1;33m@\u001b[0m \u001b[0mX\u001b[0m\u001b[1;33m)\u001b[0m \u001b[1;33m==\u001b[0m \u001b[1;36m0\u001b[0m\u001b[1;33m:\u001b[0m\u001b[1;33m\u001b[0m\u001b[1;33m\u001b[0m\u001b[0m\n\u001b[1;32m--> 157\u001b[1;33m         \u001b[1;32mraise\u001b[0m \u001b[0mLinearlyDependent\u001b[0m\u001b[1;33m\u001b[0m\u001b[1;33m\u001b[0m\u001b[0m\n\u001b[0m\u001b[0;32m    158\u001b[0m     \u001b[0mreg\u001b[0m \u001b[1;33m=\u001b[0m \u001b[0mLinearRegression\u001b[0m\u001b[1;33m(\u001b[0m\u001b[1;33m)\u001b[0m\u001b[1;33m.\u001b[0m\u001b[0mfit\u001b[0m\u001b[1;33m(\u001b[0m\u001b[0mX_poly\u001b[0m\u001b[1;33m,\u001b[0m \u001b[0my\u001b[0m\u001b[1;33m)\u001b[0m\u001b[1;33m\u001b[0m\u001b[1;33m\u001b[0m\u001b[0m\n\u001b[0;32m    159\u001b[0m \u001b[1;33m\u001b[0m\u001b[0m\n",
      "\u001b[1;31mLinearlyDependent\u001b[0m: Присутствуют линейно зависимые признаки. Мы не можем применить МНК."
     ]
    }
   ],
   "source": [
    "X, y = data[['X1', 'X2', 'X4']], data['Y']\n",
    "res = poly_regression(X, y, degree = 2, draw=True)\n",
    "res"
   ]
  },
  {
   "cell_type": "code",
   "execution_count": 16,
   "metadata": {},
   "outputs": [],
   "source": [
    "X, y = data[['X1', 'X2', 'X3', 'X4', 'X5']], data['Y']"
   ]
  },
  {
   "cell_type": "code",
   "execution_count": 17,
   "metadata": {
    "scrolled": false
   },
   "outputs": [
    {
     "name": "stdout",
     "output_type": "stream",
     "text": [
      "К сожалению, мы не можем построить график, так как размерность пространства признаков велика.\n"
     ]
    },
    {
     "data": {
      "text/plain": [
       "{'func': '91.19 + 0.0*x1^1 + 0.0*x1^2',\n",
       " 'weights': array([0., 0., 0.]),\n",
       " 'bias': 91.19}"
      ]
     },
     "execution_count": 17,
     "metadata": {},
     "output_type": "execute_result"
    }
   ],
   "source": [
    "res = poly_regression(X.iloc[:, 1], y, degree = 2, draw=True)  # , regularization = 'L1'\n",
    "res"
   ]
  },
  {
   "cell_type": "code",
   "execution_count": 18,
   "metadata": {
    "scrolled": true
   },
   "outputs": [
    {
     "name": "stdout",
     "output_type": "stream",
     "text": [
      "К сожалению, мы не можем построить график, так как размерность пространства признаков велика.\n"
     ]
    },
    {
     "data": {
      "text/plain": [
       "{'func': '91.19 + 0.0*x1^1 + 0.0*x1^2',\n",
       " 'weights': array([0., 0., 0.]),\n",
       " 'bias': 91.19}"
      ]
     },
     "execution_count": 18,
     "metadata": {},
     "output_type": "execute_result"
    }
   ],
   "source": [
    "res = poly_regression(X.iloc[:, 4], y, degree = 2, draw=True)  # , regularization = 'L2'\n",
    "res"
   ]
  },
  {
   "cell_type": "code",
   "execution_count": 19,
   "metadata": {},
   "outputs": [
    {
     "name": "stdout",
     "output_type": "stream",
     "text": [
      "К сожалению, мы не можем построить график, так как размерность пространства признаков велика.\n"
     ]
    },
    {
     "data": {
      "text/plain": [
       "{'func': '91.19 + 0.0*x1^1 + 0.0*x1^2',\n",
       " 'weights': array([0., 0., 0.]),\n",
       " 'bias': 91.19}"
      ]
     },
     "execution_count": 19,
     "metadata": {},
     "output_type": "execute_result"
    }
   ],
   "source": [
    "res = poly_regression(X.iloc[:, 2], y, degree = 2, draw=True)  # , regularization = 'Student'\n",
    "res"
   ]
  },
  {
   "cell_type": "code",
   "execution_count": 20,
   "metadata": {},
   "outputs": [
    {
     "name": "stdout",
     "output_type": "stream",
     "text": [
      "К сожалению, мы не можем построить график, так как размерность пространства признаков велика.\n"
     ]
    },
    {
     "data": {
      "text/plain": [
       "{'func': '91.19 + 0.0*x1^1 + 0.0*x1^2',\n",
       " 'weights': array([0., 0., 0.]),\n",
       " 'bias': 91.19}"
      ]
     },
     "execution_count": 20,
     "metadata": {},
     "output_type": "execute_result"
    }
   ],
   "source": [
    "res = poly_regression(X.iloc[:, 3], y, degree = 2, draw=True)\n",
    "res"
   ]
  },
  {
   "cell_type": "markdown",
   "metadata": {},
   "source": [
    "#### 3. x1 = const1, x2=const2, … y разные"
   ]
  },
  {
   "cell_type": "code",
   "execution_count": 21,
   "metadata": {},
   "outputs": [
    {
     "data": {
      "text/html": [
       "<div>\n",
       "<style scoped>\n",
       "    .dataframe tbody tr th:only-of-type {\n",
       "        vertical-align: middle;\n",
       "    }\n",
       "\n",
       "    .dataframe tbody tr th {\n",
       "        vertical-align: top;\n",
       "    }\n",
       "\n",
       "    .dataframe thead th {\n",
       "        text-align: right;\n",
       "    }\n",
       "</style>\n",
       "<table border=\"1\" class=\"dataframe\">\n",
       "  <thead>\n",
       "    <tr style=\"text-align: right;\">\n",
       "      <th></th>\n",
       "      <th>Y1</th>\n",
       "      <th>Y2</th>\n",
       "      <th>Y3</th>\n",
       "      <th>Y4</th>\n",
       "      <th>Y5</th>\n",
       "      <th>X1</th>\n",
       "      <th>X2</th>\n",
       "      <th>X3</th>\n",
       "      <th>X4</th>\n",
       "      <th>X5</th>\n",
       "    </tr>\n",
       "  </thead>\n",
       "  <tbody>\n",
       "    <tr>\n",
       "      <th>0</th>\n",
       "      <td>-28.69</td>\n",
       "      <td>55.08</td>\n",
       "      <td>-95.87</td>\n",
       "      <td>67.80</td>\n",
       "      <td>82.67</td>\n",
       "      <td>0</td>\n",
       "      <td>158.6</td>\n",
       "      <td>13</td>\n",
       "      <td>-648</td>\n",
       "      <td>-7.5</td>\n",
       "    </tr>\n",
       "    <tr>\n",
       "      <th>1</th>\n",
       "      <td>-47.12</td>\n",
       "      <td>-33.52</td>\n",
       "      <td>-94.66</td>\n",
       "      <td>97.54</td>\n",
       "      <td>31.79</td>\n",
       "      <td>0</td>\n",
       "      <td>158.6</td>\n",
       "      <td>13</td>\n",
       "      <td>-648</td>\n",
       "      <td>-7.5</td>\n",
       "    </tr>\n",
       "    <tr>\n",
       "      <th>2</th>\n",
       "      <td>51.55</td>\n",
       "      <td>-84.48</td>\n",
       "      <td>8.87</td>\n",
       "      <td>81.46</td>\n",
       "      <td>7.50</td>\n",
       "      <td>0</td>\n",
       "      <td>158.6</td>\n",
       "      <td>13</td>\n",
       "      <td>-648</td>\n",
       "      <td>-7.5</td>\n",
       "    </tr>\n",
       "  </tbody>\n",
       "</table>\n",
       "</div>"
      ],
      "text/plain": [
       "      Y1     Y2     Y3     Y4     Y5  X1     X2  X3   X4   X5\n",
       "0 -28.69  55.08 -95.87  67.80  82.67   0  158.6  13 -648 -7.5\n",
       "1 -47.12 -33.52 -94.66  97.54  31.79   0  158.6  13 -648 -7.5\n",
       "2  51.55 -84.48   8.87  81.46   7.50   0  158.6  13 -648 -7.5"
      ]
     },
     "execution_count": 21,
     "metadata": {},
     "output_type": "execute_result"
    }
   ],
   "source": [
    "data = pd.read_excel('Data.xlsx', sheet_name = '3')\n",
    "data.head(3)"
   ]
  },
  {
   "cell_type": "code",
   "execution_count": 22,
   "metadata": {},
   "outputs": [
    {
     "ename": "LinearlyDependent",
     "evalue": "Присутствуют линейно зависимые признаки. Мы не можем применить МНК.",
     "output_type": "error",
     "traceback": [
      "\u001b[1;31m---------------------------------------------------------------------------\u001b[0m",
      "\u001b[1;31mLinearlyDependent\u001b[0m                         Traceback (most recent call last)",
      "\u001b[1;32m<ipython-input-22-b69156549792>\u001b[0m in \u001b[0;36m<module>\u001b[1;34m\u001b[0m\n\u001b[0;32m      1\u001b[0m \u001b[0mX\u001b[0m\u001b[1;33m,\u001b[0m \u001b[0my\u001b[0m \u001b[1;33m=\u001b[0m \u001b[0mdata\u001b[0m\u001b[1;33m[\u001b[0m\u001b[1;33m[\u001b[0m\u001b[1;34m'X1'\u001b[0m\u001b[1;33m,\u001b[0m \u001b[1;34m'X2'\u001b[0m\u001b[1;33m]\u001b[0m\u001b[1;33m]\u001b[0m\u001b[1;33m,\u001b[0m \u001b[0mdata\u001b[0m\u001b[1;33m[\u001b[0m\u001b[1;34m'Y1'\u001b[0m\u001b[1;33m]\u001b[0m\u001b[1;33m\u001b[0m\u001b[1;33m\u001b[0m\u001b[0m\n\u001b[1;32m----> 2\u001b[1;33m \u001b[0mres\u001b[0m \u001b[1;33m=\u001b[0m \u001b[0mpoly_regression\u001b[0m\u001b[1;33m(\u001b[0m\u001b[0mX\u001b[0m\u001b[1;33m,\u001b[0m \u001b[0my\u001b[0m\u001b[1;33m,\u001b[0m \u001b[0mdegree\u001b[0m \u001b[1;33m=\u001b[0m \u001b[1;36m2\u001b[0m\u001b[1;33m,\u001b[0m \u001b[0mdraw\u001b[0m\u001b[1;33m=\u001b[0m\u001b[1;32mTrue\u001b[0m\u001b[1;33m)\u001b[0m  \u001b[1;31m# , regularization = 'Student'\u001b[0m\u001b[1;33m\u001b[0m\u001b[1;33m\u001b[0m\u001b[0m\n\u001b[0m\u001b[0;32m      3\u001b[0m \u001b[0mres\u001b[0m\u001b[1;33m\u001b[0m\u001b[1;33m\u001b[0m\u001b[0m\n",
      "\u001b[1;32m~\\Downloads\\Aksen\\regression.py\u001b[0m in \u001b[0;36mpoly_regression\u001b[1;34m(X, y, degree, tol, regularization, alpha, draw)\u001b[0m\n\u001b[0;32m    155\u001b[0m \u001b[1;33m\u001b[0m\u001b[0m\n\u001b[0;32m    156\u001b[0m     \u001b[1;32mif\u001b[0m \u001b[0mX\u001b[0m\u001b[1;33m.\u001b[0m\u001b[0mshape\u001b[0m\u001b[1;33m[\u001b[0m\u001b[1;36m1\u001b[0m\u001b[1;33m]\u001b[0m \u001b[1;33m>=\u001b[0m \u001b[1;36m2\u001b[0m \u001b[1;32mand\u001b[0m \u001b[0mnp\u001b[0m\u001b[1;33m.\u001b[0m\u001b[0mlinalg\u001b[0m\u001b[1;33m.\u001b[0m\u001b[0mdet\u001b[0m\u001b[1;33m(\u001b[0m\u001b[0mX\u001b[0m\u001b[1;33m.\u001b[0m\u001b[0mT\u001b[0m \u001b[1;33m@\u001b[0m \u001b[0mX\u001b[0m\u001b[1;33m)\u001b[0m \u001b[1;33m==\u001b[0m \u001b[1;36m0\u001b[0m\u001b[1;33m:\u001b[0m\u001b[1;33m\u001b[0m\u001b[1;33m\u001b[0m\u001b[0m\n\u001b[1;32m--> 157\u001b[1;33m         \u001b[1;32mraise\u001b[0m \u001b[0mLinearlyDependent\u001b[0m\u001b[1;33m\u001b[0m\u001b[1;33m\u001b[0m\u001b[0m\n\u001b[0m\u001b[0;32m    158\u001b[0m     \u001b[0mreg\u001b[0m \u001b[1;33m=\u001b[0m \u001b[0mLinearRegression\u001b[0m\u001b[1;33m(\u001b[0m\u001b[1;33m)\u001b[0m\u001b[1;33m.\u001b[0m\u001b[0mfit\u001b[0m\u001b[1;33m(\u001b[0m\u001b[0mX_poly\u001b[0m\u001b[1;33m,\u001b[0m \u001b[0my\u001b[0m\u001b[1;33m)\u001b[0m\u001b[1;33m\u001b[0m\u001b[1;33m\u001b[0m\u001b[0m\n\u001b[0;32m    159\u001b[0m \u001b[1;33m\u001b[0m\u001b[0m\n",
      "\u001b[1;31mLinearlyDependent\u001b[0m: Присутствуют линейно зависимые признаки. Мы не можем применить МНК."
     ]
    }
   ],
   "source": [
    "X, y = data[['X1', 'X2']], data['Y1']\n",
    "res = poly_regression(X, y, degree = 2, draw=True)  # , regularization = 'Student'\n",
    "res"
   ]
  },
  {
   "cell_type": "code",
   "execution_count": 23,
   "metadata": {},
   "outputs": [
    {
     "ename": "LinearlyDependent",
     "evalue": "Присутствуют линейно зависимые признаки. Мы не можем применить МНК.",
     "output_type": "error",
     "traceback": [
      "\u001b[1;31m---------------------------------------------------------------------------\u001b[0m",
      "\u001b[1;31mLinearlyDependent\u001b[0m                         Traceback (most recent call last)",
      "\u001b[1;32m<ipython-input-23-4cffb481cdbb>\u001b[0m in \u001b[0;36m<module>\u001b[1;34m\u001b[0m\n\u001b[0;32m      1\u001b[0m \u001b[0mX\u001b[0m\u001b[1;33m,\u001b[0m \u001b[0my\u001b[0m \u001b[1;33m=\u001b[0m \u001b[0mdata\u001b[0m\u001b[1;33m[\u001b[0m\u001b[1;33m[\u001b[0m\u001b[1;34m'X1'\u001b[0m\u001b[1;33m,\u001b[0m \u001b[1;34m'X2'\u001b[0m\u001b[1;33m,\u001b[0m \u001b[1;34m'X3'\u001b[0m\u001b[1;33m]\u001b[0m\u001b[1;33m]\u001b[0m\u001b[1;33m,\u001b[0m \u001b[0mdata\u001b[0m\u001b[1;33m[\u001b[0m\u001b[1;34m'Y2'\u001b[0m\u001b[1;33m]\u001b[0m\u001b[1;33m\u001b[0m\u001b[1;33m\u001b[0m\u001b[0m\n\u001b[1;32m----> 2\u001b[1;33m \u001b[0mres\u001b[0m \u001b[1;33m=\u001b[0m \u001b[0mpoly_regression\u001b[0m\u001b[1;33m(\u001b[0m\u001b[0mX\u001b[0m\u001b[1;33m,\u001b[0m \u001b[0my\u001b[0m\u001b[1;33m,\u001b[0m \u001b[0mdegree\u001b[0m \u001b[1;33m=\u001b[0m \u001b[1;36m2\u001b[0m\u001b[1;33m,\u001b[0m \u001b[0mdraw\u001b[0m\u001b[1;33m=\u001b[0m\u001b[1;32mTrue\u001b[0m\u001b[1;33m)\u001b[0m  \u001b[1;31m# , regularization = 'L1'\u001b[0m\u001b[1;33m\u001b[0m\u001b[1;33m\u001b[0m\u001b[0m\n\u001b[0m\u001b[0;32m      3\u001b[0m \u001b[0mres\u001b[0m\u001b[1;33m\u001b[0m\u001b[1;33m\u001b[0m\u001b[0m\n",
      "\u001b[1;32m~\\Downloads\\Aksen\\regression.py\u001b[0m in \u001b[0;36mpoly_regression\u001b[1;34m(X, y, degree, tol, regularization, alpha, draw)\u001b[0m\n\u001b[0;32m    155\u001b[0m \u001b[1;33m\u001b[0m\u001b[0m\n\u001b[0;32m    156\u001b[0m     \u001b[1;32mif\u001b[0m \u001b[0mX\u001b[0m\u001b[1;33m.\u001b[0m\u001b[0mshape\u001b[0m\u001b[1;33m[\u001b[0m\u001b[1;36m1\u001b[0m\u001b[1;33m]\u001b[0m \u001b[1;33m>=\u001b[0m \u001b[1;36m2\u001b[0m \u001b[1;32mand\u001b[0m \u001b[0mnp\u001b[0m\u001b[1;33m.\u001b[0m\u001b[0mlinalg\u001b[0m\u001b[1;33m.\u001b[0m\u001b[0mdet\u001b[0m\u001b[1;33m(\u001b[0m\u001b[0mX\u001b[0m\u001b[1;33m.\u001b[0m\u001b[0mT\u001b[0m \u001b[1;33m@\u001b[0m \u001b[0mX\u001b[0m\u001b[1;33m)\u001b[0m \u001b[1;33m==\u001b[0m \u001b[1;36m0\u001b[0m\u001b[1;33m:\u001b[0m\u001b[1;33m\u001b[0m\u001b[1;33m\u001b[0m\u001b[0m\n\u001b[1;32m--> 157\u001b[1;33m         \u001b[1;32mraise\u001b[0m \u001b[0mLinearlyDependent\u001b[0m\u001b[1;33m\u001b[0m\u001b[1;33m\u001b[0m\u001b[0m\n\u001b[0m\u001b[0;32m    158\u001b[0m     \u001b[0mreg\u001b[0m \u001b[1;33m=\u001b[0m \u001b[0mLinearRegression\u001b[0m\u001b[1;33m(\u001b[0m\u001b[1;33m)\u001b[0m\u001b[1;33m.\u001b[0m\u001b[0mfit\u001b[0m\u001b[1;33m(\u001b[0m\u001b[0mX_poly\u001b[0m\u001b[1;33m,\u001b[0m \u001b[0my\u001b[0m\u001b[1;33m)\u001b[0m\u001b[1;33m\u001b[0m\u001b[1;33m\u001b[0m\u001b[0m\n\u001b[0;32m    159\u001b[0m \u001b[1;33m\u001b[0m\u001b[0m\n",
      "\u001b[1;31mLinearlyDependent\u001b[0m: Присутствуют линейно зависимые признаки. Мы не можем применить МНК."
     ]
    }
   ],
   "source": [
    "X, y = data[['X1', 'X2', 'X3']], data['Y2']\n",
    "res = poly_regression(X, y, degree = 2, draw=True)  # , regularization = 'L1'\n",
    "res"
   ]
  },
  {
   "cell_type": "code",
   "execution_count": 24,
   "metadata": {},
   "outputs": [
    {
     "ename": "LinearlyDependent",
     "evalue": "Присутствуют линейно зависимые признаки. Мы не можем применить МНК.",
     "output_type": "error",
     "traceback": [
      "\u001b[1;31m---------------------------------------------------------------------------\u001b[0m",
      "\u001b[1;31mLinearlyDependent\u001b[0m                         Traceback (most recent call last)",
      "\u001b[1;32m<ipython-input-24-1669cb489cec>\u001b[0m in \u001b[0;36m<module>\u001b[1;34m\u001b[0m\n\u001b[0;32m      1\u001b[0m \u001b[0mX\u001b[0m\u001b[1;33m,\u001b[0m \u001b[0my\u001b[0m \u001b[1;33m=\u001b[0m \u001b[0mdata\u001b[0m\u001b[1;33m[\u001b[0m\u001b[1;33m[\u001b[0m\u001b[1;34m'X1'\u001b[0m\u001b[1;33m,\u001b[0m \u001b[1;34m'X4'\u001b[0m\u001b[1;33m,\u001b[0m \u001b[1;34m'X5'\u001b[0m\u001b[1;33m,\u001b[0m \u001b[1;34m'X3'\u001b[0m\u001b[1;33m]\u001b[0m\u001b[1;33m]\u001b[0m\u001b[1;33m,\u001b[0m \u001b[0mdata\u001b[0m\u001b[1;33m[\u001b[0m\u001b[1;34m'Y4'\u001b[0m\u001b[1;33m]\u001b[0m\u001b[1;33m\u001b[0m\u001b[1;33m\u001b[0m\u001b[0m\n\u001b[1;32m----> 2\u001b[1;33m \u001b[0mres\u001b[0m \u001b[1;33m=\u001b[0m \u001b[0mpoly_regression\u001b[0m\u001b[1;33m(\u001b[0m\u001b[0mX\u001b[0m\u001b[1;33m,\u001b[0m \u001b[0my\u001b[0m\u001b[1;33m,\u001b[0m \u001b[0mdegree\u001b[0m \u001b[1;33m=\u001b[0m \u001b[1;36m2\u001b[0m\u001b[1;33m,\u001b[0m \u001b[0mdraw\u001b[0m\u001b[1;33m=\u001b[0m\u001b[1;32mTrue\u001b[0m\u001b[1;33m)\u001b[0m  \u001b[1;31m# , regularization = 'L2'\u001b[0m\u001b[1;33m\u001b[0m\u001b[1;33m\u001b[0m\u001b[0m\n\u001b[0m\u001b[0;32m      3\u001b[0m \u001b[0mres\u001b[0m\u001b[1;33m\u001b[0m\u001b[1;33m\u001b[0m\u001b[0m\n",
      "\u001b[1;32m~\\Downloads\\Aksen\\regression.py\u001b[0m in \u001b[0;36mpoly_regression\u001b[1;34m(X, y, degree, tol, regularization, alpha, draw)\u001b[0m\n\u001b[0;32m    155\u001b[0m \u001b[1;33m\u001b[0m\u001b[0m\n\u001b[0;32m    156\u001b[0m     \u001b[1;32mif\u001b[0m \u001b[0mX\u001b[0m\u001b[1;33m.\u001b[0m\u001b[0mshape\u001b[0m\u001b[1;33m[\u001b[0m\u001b[1;36m1\u001b[0m\u001b[1;33m]\u001b[0m \u001b[1;33m>=\u001b[0m \u001b[1;36m2\u001b[0m \u001b[1;32mand\u001b[0m \u001b[0mnp\u001b[0m\u001b[1;33m.\u001b[0m\u001b[0mlinalg\u001b[0m\u001b[1;33m.\u001b[0m\u001b[0mdet\u001b[0m\u001b[1;33m(\u001b[0m\u001b[0mX\u001b[0m\u001b[1;33m.\u001b[0m\u001b[0mT\u001b[0m \u001b[1;33m@\u001b[0m \u001b[0mX\u001b[0m\u001b[1;33m)\u001b[0m \u001b[1;33m==\u001b[0m \u001b[1;36m0\u001b[0m\u001b[1;33m:\u001b[0m\u001b[1;33m\u001b[0m\u001b[1;33m\u001b[0m\u001b[0m\n\u001b[1;32m--> 157\u001b[1;33m         \u001b[1;32mraise\u001b[0m \u001b[0mLinearlyDependent\u001b[0m\u001b[1;33m\u001b[0m\u001b[1;33m\u001b[0m\u001b[0m\n\u001b[0m\u001b[0;32m    158\u001b[0m     \u001b[0mreg\u001b[0m \u001b[1;33m=\u001b[0m \u001b[0mLinearRegression\u001b[0m\u001b[1;33m(\u001b[0m\u001b[1;33m)\u001b[0m\u001b[1;33m.\u001b[0m\u001b[0mfit\u001b[0m\u001b[1;33m(\u001b[0m\u001b[0mX_poly\u001b[0m\u001b[1;33m,\u001b[0m \u001b[0my\u001b[0m\u001b[1;33m)\u001b[0m\u001b[1;33m\u001b[0m\u001b[1;33m\u001b[0m\u001b[0m\n\u001b[0;32m    159\u001b[0m \u001b[1;33m\u001b[0m\u001b[0m\n",
      "\u001b[1;31mLinearlyDependent\u001b[0m: Присутствуют линейно зависимые признаки. Мы не можем применить МНК."
     ]
    }
   ],
   "source": [
    "X, y = data[['X1', 'X4', 'X5', 'X3']], data['Y4']\n",
    "res = poly_regression(X, y, degree = 2, draw=True)  # , regularization = 'L2'\n",
    "res"
   ]
  },
  {
   "cell_type": "code",
   "execution_count": 25,
   "metadata": {},
   "outputs": [
    {
     "ename": "LinearlyDependent",
     "evalue": "Присутствуют линейно зависимые признаки. Мы не можем применить МНК.",
     "output_type": "error",
     "traceback": [
      "\u001b[1;31m---------------------------------------------------------------------------\u001b[0m",
      "\u001b[1;31mLinearlyDependent\u001b[0m                         Traceback (most recent call last)",
      "\u001b[1;32m<ipython-input-25-6c05e1fb03da>\u001b[0m in \u001b[0;36m<module>\u001b[1;34m\u001b[0m\n\u001b[0;32m      1\u001b[0m \u001b[0mX\u001b[0m\u001b[1;33m,\u001b[0m \u001b[0my\u001b[0m \u001b[1;33m=\u001b[0m \u001b[0mdata\u001b[0m\u001b[1;33m[\u001b[0m\u001b[1;33m[\u001b[0m\u001b[1;34m'X1'\u001b[0m\u001b[1;33m,\u001b[0m \u001b[1;34m'X2'\u001b[0m\u001b[1;33m,\u001b[0m \u001b[1;34m'X4'\u001b[0m\u001b[1;33m]\u001b[0m\u001b[1;33m]\u001b[0m\u001b[1;33m,\u001b[0m \u001b[0mdata\u001b[0m\u001b[1;33m[\u001b[0m\u001b[1;34m'Y5'\u001b[0m\u001b[1;33m]\u001b[0m\u001b[1;33m\u001b[0m\u001b[1;33m\u001b[0m\u001b[0m\n\u001b[1;32m----> 2\u001b[1;33m \u001b[0mres\u001b[0m \u001b[1;33m=\u001b[0m \u001b[0mpoly_regression\u001b[0m\u001b[1;33m(\u001b[0m\u001b[0mX\u001b[0m\u001b[1;33m,\u001b[0m \u001b[0my\u001b[0m\u001b[1;33m,\u001b[0m \u001b[0mdegree\u001b[0m \u001b[1;33m=\u001b[0m \u001b[1;36m2\u001b[0m\u001b[1;33m,\u001b[0m \u001b[0mdraw\u001b[0m\u001b[1;33m=\u001b[0m\u001b[1;32mTrue\u001b[0m\u001b[1;33m)\u001b[0m\u001b[1;33m\u001b[0m\u001b[1;33m\u001b[0m\u001b[0m\n\u001b[0m\u001b[0;32m      3\u001b[0m \u001b[0mres\u001b[0m\u001b[1;33m\u001b[0m\u001b[1;33m\u001b[0m\u001b[0m\n",
      "\u001b[1;32m~\\Downloads\\Aksen\\regression.py\u001b[0m in \u001b[0;36mpoly_regression\u001b[1;34m(X, y, degree, tol, regularization, alpha, draw)\u001b[0m\n\u001b[0;32m    155\u001b[0m \u001b[1;33m\u001b[0m\u001b[0m\n\u001b[0;32m    156\u001b[0m     \u001b[1;32mif\u001b[0m \u001b[0mX\u001b[0m\u001b[1;33m.\u001b[0m\u001b[0mshape\u001b[0m\u001b[1;33m[\u001b[0m\u001b[1;36m1\u001b[0m\u001b[1;33m]\u001b[0m \u001b[1;33m>=\u001b[0m \u001b[1;36m2\u001b[0m \u001b[1;32mand\u001b[0m \u001b[0mnp\u001b[0m\u001b[1;33m.\u001b[0m\u001b[0mlinalg\u001b[0m\u001b[1;33m.\u001b[0m\u001b[0mdet\u001b[0m\u001b[1;33m(\u001b[0m\u001b[0mX\u001b[0m\u001b[1;33m.\u001b[0m\u001b[0mT\u001b[0m \u001b[1;33m@\u001b[0m \u001b[0mX\u001b[0m\u001b[1;33m)\u001b[0m \u001b[1;33m==\u001b[0m \u001b[1;36m0\u001b[0m\u001b[1;33m:\u001b[0m\u001b[1;33m\u001b[0m\u001b[1;33m\u001b[0m\u001b[0m\n\u001b[1;32m--> 157\u001b[1;33m         \u001b[1;32mraise\u001b[0m \u001b[0mLinearlyDependent\u001b[0m\u001b[1;33m\u001b[0m\u001b[1;33m\u001b[0m\u001b[0m\n\u001b[0m\u001b[0;32m    158\u001b[0m     \u001b[0mreg\u001b[0m \u001b[1;33m=\u001b[0m \u001b[0mLinearRegression\u001b[0m\u001b[1;33m(\u001b[0m\u001b[1;33m)\u001b[0m\u001b[1;33m.\u001b[0m\u001b[0mfit\u001b[0m\u001b[1;33m(\u001b[0m\u001b[0mX_poly\u001b[0m\u001b[1;33m,\u001b[0m \u001b[0my\u001b[0m\u001b[1;33m)\u001b[0m\u001b[1;33m\u001b[0m\u001b[1;33m\u001b[0m\u001b[0m\n\u001b[0;32m    159\u001b[0m \u001b[1;33m\u001b[0m\u001b[0m\n",
      "\u001b[1;31mLinearlyDependent\u001b[0m: Присутствуют линейно зависимые признаки. Мы не можем применить МНК."
     ]
    }
   ],
   "source": [
    "X, y = data[['X1', 'X2', 'X4']], data['Y5']\n",
    "res = poly_regression(X, y, degree = 2, draw=True)\n",
    "res"
   ]
  },
  {
   "cell_type": "code",
   "execution_count": 26,
   "metadata": {},
   "outputs": [],
   "source": [
    "X, y = data[['X1', 'X2', 'X3', 'X4', 'X5']], data['Y4']"
   ]
  },
  {
   "cell_type": "code",
   "execution_count": 27,
   "metadata": {},
   "outputs": [
    {
     "name": "stdout",
     "output_type": "stream",
     "text": [
      "К сожалению, мы не можем построить график, так как размерность пространства признаков велика.\n"
     ]
    },
    {
     "data": {
      "text/plain": [
       "{'func': '45.63893 + 0.08114*x1^1 + 0.0*x1^2',\n",
       " 'weights': array([0.       , 0.0811442, 0.       ]),\n",
       " 'bias': 45.638929384375}"
      ]
     },
     "execution_count": 27,
     "metadata": {},
     "output_type": "execute_result"
    }
   ],
   "source": [
    "res = poly_regression(X.iloc[:, 1], y, degree = 2, draw=True)  # , regularization = 'L1'\n",
    "res"
   ]
  },
  {
   "cell_type": "code",
   "execution_count": 28,
   "metadata": {},
   "outputs": [],
   "source": [
    "X, y = data[['X1', 'X2', 'X3', 'X4', 'X5']], data['Y3']"
   ]
  },
  {
   "cell_type": "code",
   "execution_count": 29,
   "metadata": {},
   "outputs": [
    {
     "name": "stdout",
     "output_type": "stream",
     "text": [
      "К сожалению, мы не можем построить график, так как размерность пространства признаков велика.\n"
     ]
    },
    {
     "data": {
      "text/plain": [
       "{'func': '1.0644 + 0.0*x1^1 + 0.0*x1^2',\n",
       " 'weights': array([0., 0., 0.]),\n",
       " 'bias': 1.0644}"
      ]
     },
     "execution_count": 29,
     "metadata": {},
     "output_type": "execute_result"
    }
   ],
   "source": [
    "res = poly_regression(X.iloc[:, 4], y, degree = 2, draw=True)  # , regularization = 'L2'\n",
    "res"
   ]
  },
  {
   "cell_type": "code",
   "execution_count": 30,
   "metadata": {},
   "outputs": [],
   "source": [
    "X, y = data[['X1', 'X2', 'X3', 'X4', 'X5']], data['Y1']"
   ]
  },
  {
   "cell_type": "code",
   "execution_count": 31,
   "metadata": {},
   "outputs": [
    {
     "name": "stdout",
     "output_type": "stream",
     "text": [
      "К сожалению, мы не можем построить график, так как размерность пространства признаков велика.\n"
     ]
    },
    {
     "data": {
      "text/plain": [
       "{'func': '13.5956 + 0.0*x1^1 + 0.0*x1^2',\n",
       " 'weights': array([0., 0., 0.]),\n",
       " 'bias': 13.5956}"
      ]
     },
     "execution_count": 31,
     "metadata": {},
     "output_type": "execute_result"
    }
   ],
   "source": [
    "res = poly_regression(X.iloc[:, 2], y, degree = 2, draw=True)  # , regularization = 'Student'\n",
    "res"
   ]
  },
  {
   "cell_type": "code",
   "execution_count": 32,
   "metadata": {},
   "outputs": [],
   "source": [
    "X, y = data[['X1', 'X2', 'X3', 'X4', 'X5']], data['Y2']"
   ]
  },
  {
   "cell_type": "code",
   "execution_count": 33,
   "metadata": {},
   "outputs": [
    {
     "name": "stdout",
     "output_type": "stream",
     "text": [
      "К сожалению, мы не можем построить график, так как размерность пространства признаков велика.\n"
     ]
    },
    {
     "data": {
      "text/plain": [
       "{'func': '-20.4108 + 0.0*x1^1 + 0.0*x1^2',\n",
       " 'weights': array([0., 0., 0.]),\n",
       " 'bias': -20.4108}"
      ]
     },
     "execution_count": 33,
     "metadata": {},
     "output_type": "execute_result"
    }
   ],
   "source": [
    "res = poly_regression(X.iloc[:, 3], y, degree = 2, draw=True)\n",
    "res"
   ]
  },
  {
   "cell_type": "markdown",
   "metadata": {},
   "source": [
    "#### 4. x1 = const, x2 – разные, y разные"
   ]
  },
  {
   "cell_type": "code",
   "execution_count": 34,
   "metadata": {},
   "outputs": [
    {
     "data": {
      "text/html": [
       "<div>\n",
       "<style scoped>\n",
       "    .dataframe tbody tr th:only-of-type {\n",
       "        vertical-align: middle;\n",
       "    }\n",
       "\n",
       "    .dataframe tbody tr th {\n",
       "        vertical-align: top;\n",
       "    }\n",
       "\n",
       "    .dataframe thead th {\n",
       "        text-align: right;\n",
       "    }\n",
       "</style>\n",
       "<table border=\"1\" class=\"dataframe\">\n",
       "  <thead>\n",
       "    <tr style=\"text-align: right;\">\n",
       "      <th></th>\n",
       "      <th>Y1</th>\n",
       "      <th>Y2</th>\n",
       "      <th>X1</th>\n",
       "      <th>X2</th>\n",
       "      <th>X3</th>\n",
       "      <th>X4</th>\n",
       "      <th>X5</th>\n",
       "    </tr>\n",
       "  </thead>\n",
       "  <tbody>\n",
       "    <tr>\n",
       "      <th>0</th>\n",
       "      <td>60.92</td>\n",
       "      <td>59.18</td>\n",
       "      <td>13</td>\n",
       "      <td>-14.34</td>\n",
       "      <td>68.68</td>\n",
       "      <td>37.90</td>\n",
       "      <td>82.97</td>\n",
       "    </tr>\n",
       "    <tr>\n",
       "      <th>1</th>\n",
       "      <td>-24.22</td>\n",
       "      <td>87.58</td>\n",
       "      <td>13</td>\n",
       "      <td>-44.93</td>\n",
       "      <td>88.31</td>\n",
       "      <td>59.27</td>\n",
       "      <td>46.96</td>\n",
       "    </tr>\n",
       "    <tr>\n",
       "      <th>2</th>\n",
       "      <td>-38.91</td>\n",
       "      <td>45.72</td>\n",
       "      <td>13</td>\n",
       "      <td>-49.24</td>\n",
       "      <td>-55.98</td>\n",
       "      <td>29.60</td>\n",
       "      <td>28.19</td>\n",
       "    </tr>\n",
       "  </tbody>\n",
       "</table>\n",
       "</div>"
      ],
      "text/plain": [
       "      Y1     Y2  X1     X2     X3     X4     X5\n",
       "0  60.92  59.18  13 -14.34  68.68  37.90  82.97\n",
       "1 -24.22  87.58  13 -44.93  88.31  59.27  46.96\n",
       "2 -38.91  45.72  13 -49.24 -55.98  29.60  28.19"
      ]
     },
     "execution_count": 34,
     "metadata": {},
     "output_type": "execute_result"
    }
   ],
   "source": [
    "data = pd.read_excel('Data.xlsx', sheet_name = '4')\n",
    "data.head(3)"
   ]
  },
  {
   "cell_type": "code",
   "execution_count": 35,
   "metadata": {},
   "outputs": [
    {
     "name": "stdout",
     "output_type": "stream",
     "text": [
      "К сожалению, мы не можем построить график, так как размерность пространства признаков велика.\n"
     ]
    },
    {
     "data": {
      "text/plain": [
       "{'func': 'К сожалению, мы не можем вывести функцию для множественной полиномиальной регрессии',\n",
       " 'weights': array([ 0.00000000e+00, -8.67361738e-19, -3.56671643e-05,  0.00000000e+00,\n",
       "        -4.63673136e-04, -4.12390714e-03]),\n",
       " 'bias': 61.48221720860239}"
      ]
     },
     "execution_count": 35,
     "metadata": {},
     "output_type": "execute_result"
    }
   ],
   "source": [
    "X, y = data[['X1', 'X2']], data['Y2']\n",
    "res = poly_regression(X, y, degree = 2, draw=True)  # , regularization = 'Student'\n",
    "res"
   ]
  },
  {
   "cell_type": "code",
   "execution_count": 36,
   "metadata": {},
   "outputs": [
    {
     "name": "stdout",
     "output_type": "stream",
     "text": [
      "К сожалению, мы не можем построить график, так как размерность пространства признаков велика.\n"
     ]
    },
    {
     "data": {
      "text/plain": [
       "{'func': 'К сожалению, мы не можем вывести функцию для множественной полиномиальной регрессии',\n",
       " 'weights': array([ 0.00000000e+00,  0.00000000e+00,  2.39227366e-03,  1.23809070e-04,\n",
       "         4.77048956e-18,  3.10995576e-02,  1.60951791e-03, -5.53386539e-03,\n",
       "         2.45562199e-04,  5.00666695e-05]),\n",
       " 'bias': 3.923065729736586}"
      ]
     },
     "execution_count": 36,
     "metadata": {},
     "output_type": "execute_result"
    }
   ],
   "source": [
    "X, y = data[['X1', 'X2', 'X3']], data['Y1']\n",
    "res = poly_regression(X, y, degree = 2, draw=True)  # , regularization = 'L1'\n",
    "res"
   ]
  },
  {
   "cell_type": "code",
   "execution_count": 37,
   "metadata": {},
   "outputs": [
    {
     "name": "stdout",
     "output_type": "stream",
     "text": [
      "К сожалению, мы не можем построить график, так как размерность пространства признаков велика.\n"
     ]
    },
    {
     "data": {
      "text/plain": [
       "{'func': 'К сожалению, мы не можем вывести функцию для множественной полиномиальной регрессии',\n",
       " 'weights': array([ 0.00000000e+00,  3.98986399e-17, -3.69691342e-03, -3.63385793e-03,\n",
       "        -3.33860626e-03, -2.42861287e-17, -4.80598744e-02, -4.72401530e-02,\n",
       "        -4.34018813e-02,  7.91832784e-04,  9.12330845e-03,  5.19560718e-03,\n",
       "         3.80434774e-03,  8.82900868e-03, -1.21510650e-03]),\n",
       " 'bias': 79.26091765746288}"
      ]
     },
     "execution_count": 37,
     "metadata": {},
     "output_type": "execute_result"
    }
   ],
   "source": [
    "X, y = data[['X1', 'X4', 'X5', 'X3']], data['Y2']\n",
    "res = poly_regression(X, y, degree = 2, draw=True)  # , regularization = 'L2'\n",
    "res"
   ]
  },
  {
   "cell_type": "code",
   "execution_count": 38,
   "metadata": {},
   "outputs": [
    {
     "name": "stdout",
     "output_type": "stream",
     "text": [
      "К сожалению, мы не можем построить график, так как размерность пространства признаков велика.\n"
     ]
    },
    {
     "data": {
      "text/plain": [
       "{'func': 'К сожалению, мы не можем вывести функцию для множественной полиномиальной регрессии',\n",
       " 'weights': array([ 0.00000000e+00, -2.77555756e-17,  1.94468083e-03, -1.69629009e-03,\n",
       "        -1.73472348e-17,  2.52808508e-02, -2.20517712e-02, -5.89131833e-03,\n",
       "         1.99328295e-03,  1.08734867e-03]),\n",
       " 'bias': 15.547408085598647}"
      ]
     },
     "execution_count": 38,
     "metadata": {},
     "output_type": "execute_result"
    }
   ],
   "source": [
    "X, y = data[['X1', 'X2', 'X4']], data['Y1']\n",
    "res = poly_regression(X, y, degree = 2, draw=True)\n",
    "res"
   ]
  },
  {
   "cell_type": "code",
   "execution_count": 39,
   "metadata": {},
   "outputs": [],
   "source": [
    "X, y = data[['X1', 'X2', 'X3', 'X4', 'X5']], data['Y2']"
   ]
  },
  {
   "cell_type": "code",
   "execution_count": 40,
   "metadata": {},
   "outputs": [
    {
     "name": "stdout",
     "output_type": "stream",
     "text": [
      "К сожалению, мы не можем построить график, так как размерность пространства признаков велика.\n"
     ]
    },
    {
     "data": {
      "text/plain": [
       "{'func': '61.48222 + -0.00606*x1^1 + -0.00412*x1^2',\n",
       " 'weights': array([ 0.        , -0.00606342, -0.00412391]),\n",
       " 'bias': 61.48221720860239}"
      ]
     },
     "execution_count": 40,
     "metadata": {},
     "output_type": "execute_result"
    }
   ],
   "source": [
    "res = poly_regression(X.iloc[:, 1], y, degree = 2, draw=True)  # , regularization = 'L1'\n",
    "res"
   ]
  },
  {
   "cell_type": "code",
   "execution_count": 41,
   "metadata": {},
   "outputs": [],
   "source": [
    "X, y = data[['X1', 'X2', 'X3', 'X4', 'X5']], data['Y1']"
   ]
  },
  {
   "cell_type": "code",
   "execution_count": 42,
   "metadata": {},
   "outputs": [
    {
     "name": "stdout",
     "output_type": "stream",
     "text": [
      "К сожалению, мы не можем построить график, так как размерность пространства признаков велика.\n"
     ]
    },
    {
     "data": {
      "text/plain": [
       "{'func': '4.80961 + 0.41209*x1^1 + -0.00559*x1^2',\n",
       " 'weights': array([ 0.        ,  0.41208945, -0.00559455]),\n",
       " 'bias': 4.809608566739949}"
      ]
     },
     "execution_count": 42,
     "metadata": {},
     "output_type": "execute_result"
    }
   ],
   "source": [
    "res = poly_regression(X.iloc[:, 1], y, degree = 2, draw=True)  # , regularization = 'L2'\n",
    "res"
   ]
  },
  {
   "cell_type": "code",
   "execution_count": 43,
   "metadata": {},
   "outputs": [],
   "source": [
    "X, y = data[['X1', 'X2', 'X3', 'X4', 'X5']], data['Y2']"
   ]
  },
  {
   "cell_type": "code",
   "execution_count": 44,
   "metadata": {},
   "outputs": [
    {
     "name": "stdout",
     "output_type": "stream",
     "text": [
      "К сожалению, мы не можем построить график, так как размерность пространства признаков велика.\n"
     ]
    },
    {
     "data": {
      "text/plain": [
       "{'func': '61.48222 + -0.00606*x1^1 + -0.00412*x1^2',\n",
       " 'weights': array([ 0.        , -0.00606342, -0.00412391]),\n",
       " 'bias': 61.48221720860239}"
      ]
     },
     "execution_count": 44,
     "metadata": {},
     "output_type": "execute_result"
    }
   ],
   "source": [
    "res = poly_regression(X.iloc[:, 1], y, degree = 2, draw=True)  # , regularization = 'Student'\n",
    "res"
   ]
  },
  {
   "cell_type": "code",
   "execution_count": 45,
   "metadata": {},
   "outputs": [],
   "source": [
    "X, y = data[['X1', 'X2', 'X3', 'X4', 'X5']], data['Y1']"
   ]
  },
  {
   "cell_type": "code",
   "execution_count": 46,
   "metadata": {},
   "outputs": [
    {
     "name": "stdout",
     "output_type": "stream",
     "text": [
      "К сожалению, мы не можем построить график, так как размерность пространства признаков велика.\n"
     ]
    },
    {
     "data": {
      "text/plain": [
       "{'func': '4.80961 + 0.41209*x1^1 + -0.00559*x1^2',\n",
       " 'weights': array([ 0.        ,  0.41208945, -0.00559455]),\n",
       " 'bias': 4.809608566739949}"
      ]
     },
     "execution_count": 46,
     "metadata": {},
     "output_type": "execute_result"
    }
   ],
   "source": [
    "res = poly_regression(X.iloc[:, 1], y, degree = 2, draw=True)\n",
    "res"
   ]
  },
  {
   "cell_type": "markdown",
   "metadata": {},
   "source": [
    "#### 5. Точки соответствуют регрессии"
   ]
  },
  {
   "cell_type": "code",
   "execution_count": 47,
   "metadata": {},
   "outputs": [
    {
     "data": {
      "text/html": [
       "<div>\n",
       "<style scoped>\n",
       "    .dataframe tbody tr th:only-of-type {\n",
       "        vertical-align: middle;\n",
       "    }\n",
       "\n",
       "    .dataframe tbody tr th {\n",
       "        vertical-align: top;\n",
       "    }\n",
       "\n",
       "    .dataframe thead th {\n",
       "        text-align: right;\n",
       "    }\n",
       "</style>\n",
       "<table border=\"1\" class=\"dataframe\">\n",
       "  <thead>\n",
       "    <tr style=\"text-align: right;\">\n",
       "      <th></th>\n",
       "      <th>Y1</th>\n",
       "      <th>Y2</th>\n",
       "      <th>Y3</th>\n",
       "      <th>X1</th>\n",
       "      <th>X2</th>\n",
       "      <th>X3</th>\n",
       "    </tr>\n",
       "  </thead>\n",
       "  <tbody>\n",
       "    <tr>\n",
       "      <th>0</th>\n",
       "      <td>-2981.3</td>\n",
       "      <td>13856.4</td>\n",
       "      <td>44224.24</td>\n",
       "      <td>0</td>\n",
       "      <td>-73</td>\n",
       "      <td>-26</td>\n",
       "    </tr>\n",
       "    <tr>\n",
       "      <th>1</th>\n",
       "      <td>-2244.4</td>\n",
       "      <td>13479.5</td>\n",
       "      <td>35358.56</td>\n",
       "      <td>1</td>\n",
       "      <td>-72</td>\n",
       "      <td>-24</td>\n",
       "    </tr>\n",
       "    <tr>\n",
       "      <th>2</th>\n",
       "      <td>-1622.5</td>\n",
       "      <td>13107.8</td>\n",
       "      <td>27841.92</td>\n",
       "      <td>2</td>\n",
       "      <td>-71</td>\n",
       "      <td>-22</td>\n",
       "    </tr>\n",
       "  </tbody>\n",
       "</table>\n",
       "</div>"
      ],
      "text/plain": [
       "       Y1       Y2        Y3  X1  X2  X3\n",
       "0 -2981.3  13856.4  44224.24   0 -73 -26\n",
       "1 -2244.4  13479.5  35358.56   1 -72 -24\n",
       "2 -1622.5  13107.8  27841.92   2 -71 -22"
      ]
     },
     "execution_count": 47,
     "metadata": {},
     "output_type": "execute_result"
    }
   ],
   "source": [
    "data = pd.read_excel('Data.xlsx', sheet_name = '6п')\n",
    "data.head(3)"
   ]
  },
  {
   "cell_type": "code",
   "execution_count": 48,
   "metadata": {},
   "outputs": [],
   "source": [
    "X, y = data[['X1', 'X2', 'X3']], data['Y1']"
   ]
  },
  {
   "cell_type": "code",
   "execution_count": 49,
   "metadata": {},
   "outputs": [
    {
     "name": "stdout",
     "output_type": "stream",
     "text": [
      "К сожалению, мы не можем построить график, так как размерность пространства признаков велика.\n"
     ]
    },
    {
     "data": {
      "text/plain": [
       "{'func': '1067.98 + -570.72*x1^1 + 28.9*x1^2',\n",
       " 'weights': array([   0.  , -570.72,   28.9 ]),\n",
       " 'bias': 1067.9799999999432}"
      ]
     },
     "execution_count": 49,
     "metadata": {},
     "output_type": "execute_result"
    }
   ],
   "source": [
    "res = poly_regression(X.iloc[:, 0], y, degree = 2, draw=True)  # , regularization = 'L1'\n",
    "res"
   ]
  },
  {
   "cell_type": "code",
   "execution_count": 50,
   "metadata": {},
   "outputs": [],
   "source": [
    "X, y = data[['X1', 'X2', 'X3']], data['Y2']"
   ]
  },
  {
   "cell_type": "code",
   "execution_count": 51,
   "metadata": {},
   "outputs": [
    {
     "name": "stdout",
     "output_type": "stream",
     "text": [
      "К сожалению, мы не можем построить график, так как размерность пространства признаков велика.\n"
     ]
    },
    {
     "data": {
      "text/plain": [
       "{'func': '8.3 + 0.1*x1^1 + 2.6*x1^2',\n",
       " 'weights': array([0. , 0.1, 2.6]),\n",
       " 'bias': 8.300000000017462}"
      ]
     },
     "execution_count": 51,
     "metadata": {},
     "output_type": "execute_result"
    }
   ],
   "source": [
    "res = poly_regression(X.iloc[:, 1], y, degree = 2, draw=True)  # , regularization = 'L2'\n",
    "res"
   ]
  },
  {
   "cell_type": "code",
   "execution_count": 52,
   "metadata": {},
   "outputs": [],
   "source": [
    "X, y = data[['X1', 'X2', 'X3']], data['Y3']"
   ]
  },
  {
   "cell_type": "code",
   "execution_count": 53,
   "metadata": {},
   "outputs": [
    {
     "name": "stdout",
     "output_type": "stream",
     "text": [
      "К сожалению, мы не можем построить график, так как размерность пространства признаков велика.\n"
     ]
    },
    {
     "data": {
      "text/plain": [
       "{'func': '23614.976 + -1156.828*x1^1 + -84.09*x1^2',\n",
       " 'weights': array([    0.   , -1156.828,   -84.09 ]),\n",
       " 'bias': 23614.97600000014}"
      ]
     },
     "execution_count": 53,
     "metadata": {},
     "output_type": "execute_result"
    }
   ],
   "source": [
    "res = poly_regression(X.iloc[:, 2], y, degree = 2, draw=True)  # , regularization = 'Student'\n",
    "res"
   ]
  },
  {
   "cell_type": "code",
   "execution_count": 54,
   "metadata": {},
   "outputs": [
    {
     "name": "stdout",
     "output_type": "stream",
     "text": [
      "К сожалению, мы не можем построить график, так как размерность пространства признаков велика.\n"
     ]
    },
    {
     "data": {
      "text/plain": [
       "{'func': '23614.976 + -1156.828*x1^1 + -84.09*x1^2',\n",
       " 'weights': array([    0.   , -1156.828,   -84.09 ]),\n",
       " 'bias': 23614.97600000014}"
      ]
     },
     "execution_count": 54,
     "metadata": {},
     "output_type": "execute_result"
    }
   ],
   "source": [
    "res = poly_regression(X.iloc[:, 2], y, degree = 2, draw=True)\n",
    "res"
   ]
  },
  {
   "cell_type": "markdown",
   "metadata": {},
   "source": [
    "#### Окружность...."
   ]
  },
  {
   "cell_type": "code",
   "execution_count": 55,
   "metadata": {},
   "outputs": [
    {
     "data": {
      "text/html": [
       "<div>\n",
       "<style scoped>\n",
       "    .dataframe tbody tr th:only-of-type {\n",
       "        vertical-align: middle;\n",
       "    }\n",
       "\n",
       "    .dataframe tbody tr th {\n",
       "        vertical-align: top;\n",
       "    }\n",
       "\n",
       "    .dataframe thead th {\n",
       "        text-align: right;\n",
       "    }\n",
       "</style>\n",
       "<table border=\"1\" class=\"dataframe\">\n",
       "  <thead>\n",
       "    <tr style=\"text-align: right;\">\n",
       "      <th></th>\n",
       "      <th>Y1</th>\n",
       "      <th>Y2</th>\n",
       "      <th>X1</th>\n",
       "    </tr>\n",
       "  </thead>\n",
       "  <tbody>\n",
       "    <tr>\n",
       "      <th>0</th>\n",
       "      <td>0.000000</td>\n",
       "      <td>5.000000</td>\n",
       "      <td>-4.0</td>\n",
       "    </tr>\n",
       "    <tr>\n",
       "      <th>1</th>\n",
       "      <td>-1.936492</td>\n",
       "      <td>3.063508</td>\n",
       "      <td>-3.5</td>\n",
       "    </tr>\n",
       "    <tr>\n",
       "      <th>2</th>\n",
       "      <td>1.936492</td>\n",
       "      <td>6.936492</td>\n",
       "      <td>-3.5</td>\n",
       "    </tr>\n",
       "  </tbody>\n",
       "</table>\n",
       "</div>"
      ],
      "text/plain": [
       "         Y1        Y2   X1\n",
       "0  0.000000  5.000000 -4.0\n",
       "1 -1.936492  3.063508 -3.5\n",
       "2  1.936492  6.936492 -3.5"
      ]
     },
     "execution_count": 55,
     "metadata": {},
     "output_type": "execute_result"
    }
   ],
   "source": [
    "data = pd.read_excel('Data.xlsx', sheet_name = '8о')\n",
    "data.head(3)"
   ]
  },
  {
   "cell_type": "code",
   "execution_count": 56,
   "metadata": {},
   "outputs": [],
   "source": [
    "X, y = data['X1'], data[['Y1', 'Y2']]"
   ]
  },
  {
   "cell_type": "code",
   "execution_count": 57,
   "metadata": {},
   "outputs": [
    {
     "name": "stdout",
     "output_type": "stream",
     "text": [
      "К сожалению, мы не можем построить график, так как размерность пространства признаков велика.\n"
     ]
    },
    {
     "data": {
      "text/plain": [
       "{'func': '0.0 + -0.0*x1^1 + -0.0*x1^2',\n",
       " 'weights': array([ 0.00000000e+00, -8.14031265e-18, -1.93445082e-17]),\n",
       " 'bias': 1.0397673137400389e-16}"
      ]
     },
     "execution_count": 57,
     "metadata": {},
     "output_type": "execute_result"
    }
   ],
   "source": [
    "res = poly_regression(X, y.iloc[:, 0], degree = 2, draw=True)  # , regularization = 'L1'\n",
    "res"
   ]
  },
  {
   "cell_type": "code",
   "execution_count": 58,
   "metadata": {},
   "outputs": [
    {
     "name": "stdout",
     "output_type": "stream",
     "text": [
      "К сожалению, мы не можем построить график, так как размерность пространства признаков велика.\n"
     ]
    },
    {
     "data": {
      "text/plain": [
       "{'func': '5.0 + -0.0*x1^1 + -0.0*x1^2',\n",
       " 'weights': array([ 0.00000000e+00, -8.14031265e-18, -1.37602964e-17]),\n",
       " 'bias': 5.0}"
      ]
     },
     "execution_count": 58,
     "metadata": {},
     "output_type": "execute_result"
    }
   ],
   "source": [
    "res = poly_regression(X, y.iloc[:, 1], degree = 2, draw=True)  # , regularization = 'L2'\n",
    "res"
   ]
  },
  {
   "cell_type": "code",
   "execution_count": 59,
   "metadata": {},
   "outputs": [
    {
     "name": "stdout",
     "output_type": "stream",
     "text": [
      "К сожалению, мы не можем построить график, так как размерность пространства признаков велика.\n"
     ]
    },
    {
     "data": {
      "text/plain": [
       "{'func': '0.0 + -0.0*x1^1 + -0.0*x1^2',\n",
       " 'weights': array([ 0.00000000e+00, -8.14031265e-18, -1.93445082e-17]),\n",
       " 'bias': 1.0397673137400389e-16}"
      ]
     },
     "execution_count": 59,
     "metadata": {},
     "output_type": "execute_result"
    }
   ],
   "source": [
    "res = poly_regression(X, y.iloc[:, 0], degree = 2, draw=True)  # , regularization = 'Student'\n",
    "res"
   ]
  },
  {
   "cell_type": "code",
   "execution_count": 60,
   "metadata": {},
   "outputs": [
    {
     "name": "stdout",
     "output_type": "stream",
     "text": [
      "К сожалению, мы не можем построить график, так как размерность пространства признаков велика.\n"
     ]
    },
    {
     "data": {
      "text/plain": [
       "{'func': '5.0 + -0.0*x1^1 + -0.0*x1^2',\n",
       " 'weights': array([ 0.00000000e+00, -8.14031265e-18, -1.37602964e-17]),\n",
       " 'bias': 5.0}"
      ]
     },
     "execution_count": 60,
     "metadata": {},
     "output_type": "execute_result"
    }
   ],
   "source": [
    "res = poly_regression(X, y.iloc[:, 1], degree = 2, draw=True)\n",
    "res"
   ]
  },
  {
   "cell_type": "code",
   "execution_count": null,
   "metadata": {},
   "outputs": [],
   "source": []
  }
 ],
 "metadata": {
  "kernelspec": {
   "display_name": "Python 3",
   "language": "python",
   "name": "python3"
  },
  "language_info": {
   "codemirror_mode": {
    "name": "ipython",
    "version": 3
   },
   "file_extension": ".py",
   "mimetype": "text/x-python",
   "name": "python",
   "nbconvert_exporter": "python",
   "pygments_lexer": "ipython3",
   "version": "3.8.5"
  }
 },
 "nbformat": 4,
 "nbformat_minor": 4
}
