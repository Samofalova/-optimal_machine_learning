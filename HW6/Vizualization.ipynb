{
 "cells": [
  {
   "cell_type": "code",
   "execution_count": 165,
   "id": "ef0027fc",
   "metadata": {},
   "outputs": [],
   "source": [
    "import numpy as np\n",
    "from numpy import where\n",
    "from numpy import meshgrid\n",
    "from numpy import arange\n",
    "from numpy import hstack\n",
    "from sklearn.datasets import make_blobs\n",
    "from matplotlib import pyplot\n",
    "from sklearn import datasets\n",
    "from sklearn.model_selection import train_test_split\n",
    "from sklearn.preprocessing import PolynomialFeatures\n",
    "from sklearn.linear_model import LogisticRegression"
   ]
  },
  {
   "cell_type": "code",
   "execution_count": 166,
   "id": "086dd4bf",
   "metadata": {},
   "outputs": [],
   "source": [
    "def logistic_regression_with_l1(x_train: np.array, y_train: np.array, x_test: np.array,\n",
    "        penalty=None, C=1, l1_ratio=None, draw=False, degree=1):\n",
    "    \n",
    "    # проверка параметров\n",
    "    assert C > 0, 'Сила регуляризации дожна быть больше, чем 0!'\n",
    "    if l1_ratio is not None:\n",
    "        assert 0 <= l1_ratio <= 1, 'Параметр l1_ration должен быть удовлетворять неравенству 0 <= l1_ratio <= 1!'\n",
    "    assert degree > 0 and isinstance(degree, int), 'Параметр degree должен быть целым положительным числом!'\n",
    "    assert len(np.unique(y_train)), 'В y_train должно быть больше одного класса!'\n",
    "    \n",
    "    if x_train.shape[0] < 2**x_train.shape[1]:\n",
    "        print('Для оптимального результата количество наблюдений должно быть больше 2^k.')\n",
    "        IsContinue = int(input('Все равно продолжить? (0/1): '))\n",
    "        if not IsContinue:\n",
    "            return\n",
    "    \n",
    "    poly = PolynomialFeatures(degree, include_bias=False)\n",
    "    \n",
    "    x_poly = poly.fit_transform(x_train)\n",
    "    x_poly_test = poly.transform(x_test)\n",
    "    \n",
    "    if penalty == 'l1':\n",
    "        penalty = 'elasticnet'\n",
    "        l1_ratio = 1\n",
    "    elif penalty != 'l1':\n",
    "        penalty = 'elasticnet'\n",
    "        if l1_ratio is None:\n",
    "            l1_ratio = 0.8\n",
    "    \n",
    "    model = LogisticRegression(max_iter=50_000, penalty=penalty, solver='saga', l1_ratio=l1_ratio, C=C)\n",
    "    model.fit(x_poly, y_train)\n",
    "    y_pred = model.predict(x_poly_test)\n",
    "    \n",
    "    res = {'x_test': x_poly_test,\n",
    "           'y_pred': y_pred,\n",
    "           'intercept': model.intercept_,\n",
    "           'coef': model.coef_}\n",
    "    \n",
    "    if draw:\n",
    "        # create scatter plot for samples from each class\n",
    "        for class_value in range(2):\n",
    "            # get row indexes for samples with this class\n",
    "            row_ix = where(y_pred == class_value)\n",
    "            # create scatter of these samples\n",
    "            pyplot.scatter(x_poly_test[row_ix, 0], x_poly_test[row_ix, 1])\n",
    "        # show the plot\n",
    "        pyplot.show()\n",
    "    \n",
    "    return res"
   ]
  },
  {
   "cell_type": "code",
   "execution_count": 167,
   "id": "c5549ab7",
   "metadata": {},
   "outputs": [],
   "source": [
    "X, y = make_blobs(n_samples=1000, centers=2, n_features=2, random_state=1, cluster_std=3)"
   ]
  },
  {
   "cell_type": "code",
   "execution_count": 168,
   "id": "03412020",
   "metadata": {},
   "outputs": [],
   "source": [
    "x_train, x_test, y_train, y_test = train_test_split(X, y, test_size=0.2, random_state = 3)"
   ]
  },
  {
   "cell_type": "code",
   "execution_count": 169,
   "id": "614b01b5",
   "metadata": {},
   "outputs": [],
   "source": [
    "res = logistic_regression_with_l1(x_train, y_train, x_test)"
   ]
  },
  {
   "cell_type": "code",
   "execution_count": 170,
   "id": "4aa8418d",
   "metadata": {},
   "outputs": [],
   "source": [
    "X = x_test"
   ]
  },
  {
   "cell_type": "code",
   "execution_count": 171,
   "id": "664bd63e",
   "metadata": {},
   "outputs": [],
   "source": [
    "# определение границ\n",
    "min1, max1 = X[:, 0].min()-1, X[:, 0].max()+1\n",
    "min2, max2 = X[:, 1].min()-1, X[:, 1].max()+1\n"
   ]
  },
  {
   "cell_type": "code",
   "execution_count": 172,
   "id": "34b8525b",
   "metadata": {},
   "outputs": [],
   "source": [
    "# определяем масштаб x и y\n",
    "x1grid = arange(min1, max1, 0.1)\n",
    "x2grid = arange(min2, max2, 0.1)\n"
   ]
  },
  {
   "cell_type": "code",
   "execution_count": 173,
   "id": "77e515c9",
   "metadata": {},
   "outputs": [],
   "source": [
    "# создаем все линии и строки сетки\n",
    "xx, yy = meshgrid(x1grid, x2grid)\n"
   ]
  },
  {
   "cell_type": "code",
   "execution_count": 174,
   "id": "7556afff",
   "metadata": {},
   "outputs": [],
   "source": [
    "# сводим каждую сетку к вектору\n",
    "r1, r2 = xx.flatten(), yy.flatten()\n",
    "r1, r2 = r1.reshape((len(r1), 1)), r2.reshape((len(r2), 1))\n"
   ]
  },
  {
   "cell_type": "code",
   "execution_count": 175,
   "id": "1bfb3162",
   "metadata": {},
   "outputs": [],
   "source": [
    "grid = hstack((r1,r2))"
   ]
  },
  {
   "cell_type": "code",
   "execution_count": 176,
   "id": "1494acec",
   "metadata": {},
   "outputs": [],
   "source": [
    "zz = yhat.reshape(xx.shape)"
   ]
  },
  {
   "cell_type": "code",
   "execution_count": 177,
   "id": "8437223e",
   "metadata": {},
   "outputs": [
    {
     "data": {
      "image/png": "[encoded data removed]",
      "text/plain": [
       "<Figure size 432x288 with 2 Axes>"
      ]
     },
     "metadata": {
      "needs_background": "light"
     },
     "output_type": "display_data"
    }
   ],
   "source": [
    "c = pyplot.contourf(xx, yy, zz, cmap='RdBu')\n",
    "\n",
    "pyplot.colorbar(c)\n",
    "# создайте точечную диаграмму для образцов из каждого класса\n",
    "for class_value in range(2):\n",
    "    # получаем индексы строк для образцов\n",
    "    row_ix = where(res['y_pred'] == class_value)\n",
    "    # создаем разброс этих образцов\n",
    "    pyplot.scatter(X[row_ix, 0], X[row_ix, 1], cmap='Paired')\n",
    "\n",
    "pyplot.show()"
   ]
  },
  {
   "cell_type": "code",
   "execution_count": null,
   "id": "110f7a27",
   "metadata": {},
   "outputs": [],
   "source": []
  }
 ],
 "metadata": {
  "kernelspec": {
   "display_name": "Python 3 (ipykernel)",
   "language": "python",
   "name": "python3"
  },
  "language_info": {
   "codemirror_mode": {
    "name": "ipython",
    "version": 3
   },
   "file_extension": ".py",
   "mimetype": "text/x-python",
   "name": "python",
   "nbconvert_exporter": "python",
   "pygments_lexer": "ipython3",
   "version": "3.9.7"
  }
 },
 "nbformat": 4,
 "nbformat_minor": 5
}
