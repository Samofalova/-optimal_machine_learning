{
 "cells": [
  {
   "cell_type": "code",
   "execution_count": 8,
   "metadata": {},
   "outputs": [],
   "source": [
    "from scipy import optimize\n",
    "import sympy as sp\n",
    "import warnings\n",
    "import pandas as pd\n",
    "import numpy as np\n",
    "from sympy import *\n",
    "from copy import deepcopy\n",
    "from scipy.optimize import brentq\n",
    "from sympy.plotting import plot\n",
    "from sympy.plotting.plot import MatplotlibBackend, Plot\n",
    "\n",
    "\n",
    "def golden_ratio(func, search_area, extreme_type='min', accuracy=10**(-5),\n",
    "                 maxiter=500, interim_results=False, dataset_rec=False):\n",
    "    \"\"\"\n",
    "    Returns dict with the minimum or maximum of a function of one variable on \n",
    "    the segment [a, b] using the golden ratio method, value of function, report\n",
    "    and intermediate results in pandas.DataFrame (optional).\n",
    "    Given a function of one variable and a possible bracketing interval,\n",
    "    return the minimum or maximum of the function isolated to a fractional\n",
    "    precision of accuracy.\n",
    "    Parameters\n",
    "    ----------\n",
    "    func : str\n",
    "        Objective function to minimize or maximize.\n",
    "    search_area : tuple or list\n",
    "        [a, b], where (a<b) – the interval within which the maximum\n",
    "        and minimum are searched.\n",
    "    accuracy : float, optional\n",
    "        x tolerance stop criterion.\n",
    "    maxiter : int\n",
    "        Maximum number of iterations to perform.\n",
    "    interim_results : bool, optional\n",
    "        If True, print intermediate results.\n",
    "    dataset_rec : bool, optional\n",
    "        If True, an entry in pandas.DataFrame intermediate results.\n",
    "    Examples\n",
    "    --------\n",
    "    >>> from HW2.OneDimOptimization import golden_ratio\n",
    "    >>> minimum = golden_ratio(func='x**2', search_area=(1, 2))\n",
    "    >>> print(minimum['point'])\n",
    "    1.0000048224378428\n",
    "    \"\"\"\n",
    "    str_error = 'Длина отрезка должна быть больше заданной точности'\n",
    "    assert search_area[1] - search_area[0] > accuracy, str_error\n",
    "    res = {'point': None, 'value_func': None, 'report': None,\n",
    "           'interim_results_dataset': None}\n",
    "    df = pd.DataFrame(columns=['a', 'b', 'x1', 'x2', 'f1', 'f2'])\n",
    "    x = sp.Symbol('x')\n",
    "    try:\n",
    "        func = eval(func)\n",
    "    except NameError:\n",
    "        print('Функция должна быть задана через x')\n",
    "        return None\n",
    "    proportion = 1.6180339887\n",
    "    a, b = search_area\n",
    "    iterat = 0\n",
    "    while abs(b - a) >= accuracy and iterat != maxiter:\n",
    "        iterat += 1\n",
    "        x1 = b - (b-a) / proportion\n",
    "        x2 = a + (b-a) / proportion\n",
    "        f1, f2 = float(func.subs({x: x1})), float(func.subs({x: x2}))\n",
    "        if dataset_rec:\n",
    "            d = {'a': a, 'b': b, 'x1': x1, 'x2': x2, 'f1': f1, 'f2': f2}\n",
    "            df = df.append(d, ignore_index=True)\n",
    "\n",
    "        if extreme_type == 'min':\n",
    "            if f1 >= f2:\n",
    "                a = x1\n",
    "            else:\n",
    "                b = x2\n",
    "        elif extreme_type == 'max':\n",
    "            if f1 <= f2:\n",
    "                a = x1\n",
    "            else:\n",
    "                b = x2\n",
    "\n",
    "        if interim_results:\n",
    "            print(f'''{iterat}:\n",
    "            a = {a}, b = {b},\n",
    "            x1 = {x1}, x2 = {x2},\n",
    "            f1 = {f1}, f2 = {f2}''')\n",
    "\n",
    "    if dataset_rec:\n",
    "        res['interim_results_dataset'] = df\n",
    "    res['point'] = (a+b) / 2\n",
    "    res['value_func'] = func.subs({x: res['point']})\n",
    "    if abs(b-a) <= accuracy:\n",
    "        res['report'] = 0\n",
    "    elif iter == maxiter:\n",
    "        res['report'] = 1\n",
    "    else:\n",
    "        res['report'] = 2\n",
    "    return res\n",
    "  \n",
    "  \n",
    "def get_sympy_subplots(plot: Plot):\n",
    "    backend = MatplotlibBackend(plot)\n",
    "\n",
    "    backend.process_series()\n",
    "    backend.fig.tight_layout()\n",
    "    return backend.fig, backend.ax[0]\n",
    "  \n",
    "\n",
    "def center_point(F, x1, x2, x3):\n",
    "    if (x1, F(x1)) == (x2, F(x2)) or (x2, F(x2)) == (x3, F(x3)) or (x1, F(x1)) == (x3, F(x3)):\n",
    "        return None\n",
    "    f_1, f_2, f_3 = F(x1), F(x2), F(x3)\n",
    "    \n",
    "    a1 = (f_2 - f_1) / (x2 - x1)\n",
    "    a2 = 1/(x3 - x2)*((f_3 - f_1)/(x3 - x1) - (f_2 - f_1)/(x2 - x1))\n",
    "    \n",
    "    point = 0.5*(x1 + x2 - a1/a2)\n",
    "    return point\n",
    "  \n",
    " \n",
    "def parabola_method(func: str,\n",
    "                    limits: list,\n",
    "                    type_extr = 'min',\n",
    "                    accuracy: float=10**(-5),\n",
    "                    max_iterations: int=500,\n",
    "                    intermediate_results: bool=False,\n",
    "                    intermediate_writing: bool=False,\n",
    "                    figure=True):\n",
    "    \"\"\"\n",
    "    Search for the extremum of a function of one variable using the parabola method.\n",
    "    \n",
    "    args:\n",
    "        mandatory:\n",
    "            - func - function in analytical form;\n",
    "            - limits - optimization area boundaries;\n",
    "        optional:\n",
    "            - accuracy - optimization precision by argument (default: 10^-5);\n",
    "            - max_iterations - maximum number of iterations (default: 500;\n",
    "            - intermediate_results - flag \"output intermediate results\" (default: False);\n",
    "            - intermediate_writing - flag \"writing intermediate results to dataset\" (default: False);\n",
    "            \n",
    "    outputs:\n",
    "        - The found value of the extremum point coordinate;\n",
    "        - Function value at the extremum point;\n",
    "        - Algorithm report;\n",
    "    \"\"\"\n",
    "    try:\n",
    "        X = symbols('X')\n",
    "        F = eval(func)\n",
    "\n",
    "        if type_extr == 'max':\n",
    "            F = F * (-1)\n",
    "\n",
    "        left_hand, right_hand = eval(limits)\n",
    "\n",
    "        left_hand = float(left_hand)\n",
    "        right_hand = float(right_hand)\n",
    "\n",
    "        if left_hand > right_hand:\n",
    "            left_hand, right_hand = right_hand, left_hand\n",
    "\n",
    "        results = pd.DataFrame(columns=['x1', 'x2', 'x3', 'f1', 'f2', 'f3'])\n",
    "        iteration_num = 0\n",
    "        d = 100\n",
    "        while iteration_num < max_iterations:\n",
    "            # need to satisfy inequality x1<x2<x3, f(x1) >= f(x2) <= f(x3) \n",
    "\n",
    "            if not(d > accuracy) and d != 0.0:\n",
    "                if intermediate_writing:\n",
    "                    if intermediate_results:\n",
    "                        print(f\"iteration_num = {iteration_num}; x1 = {x1}; x2 = {x2}; x3 = {x3}; f1 = {f1}; f2 = {f2}; f3 = {f3}\")\n",
    "                    if intermediate_writing:\n",
    "                        results = results.append({'x1': x1, 'x2': x2, 'x3': x3, 'f1': f1, 'f2': f2, 'f3': f3}, ignore_index=True)\n",
    "                print(results)\n",
    "                if figure:\n",
    "                    f_res = F.subs(x, x_res)\n",
    "                    p = plot(func, show=False)\n",
    "                    fig, axe = get_sympy_subplots(p)\n",
    "                    axe.plot(x_res, f_res, \"o\", c='red')\n",
    "                    fig.show()\n",
    "                return x_res, f_res, 'Значение с заданной точностью', d\n",
    "\n",
    "            # first step\n",
    "            if iteration_num == 0:\n",
    "                x1 = left_hand\n",
    "                x3 = right_hand\n",
    "                x2 = (x1+x3)/2\n",
    "\n",
    "\n",
    "            f1 = F.subs(X, x1)\n",
    "            f2 = F.subs(X, x2)\n",
    "            f3 = F.subs(X, x3)\n",
    "\n",
    "\n",
    "            # second step\n",
    "            # first  formula - a0 = f1, a1 = (f2-f1)/(x2-x1), a2 = 1/(x3-x2) * ((f3-f1)/(x3-x1) - (f2-f1)/(x2-x1))\n",
    "            # second formula - x_ = 1/2*(x1 + x2 - a1/a2)\n",
    "            a0 = float(deepcopy(f1))\n",
    "            a1 = float((f2-f1)/(x2-x1))\n",
    "            a2 = float(1/(x3-x2) * ((f3-f1)/(x3-x1) - (f2-f1)/(x2-x1)))\n",
    "\n",
    "\n",
    "            if iteration_num > 0:\n",
    "                x_old = deepcopy(x_)\n",
    "\n",
    "            x_ = 1/2*(x1 + x2 - a1/a2)\n",
    "\n",
    "\n",
    "            # check num of step - go to step 4 if its first step\n",
    "            if iteration_num > 0:\n",
    "                d = abs(x_old - x_)\n",
    "\n",
    "                if d <= accuracy:\n",
    "                    x_res = deepcopy(x_)\n",
    "\n",
    "\n",
    "            # step 4\n",
    "            f_x_ = F.subs(X, x_)\n",
    "\n",
    "            # step 5\n",
    "            # suppose x1 = x_ = ..., f1 = f_x_ = ...\n",
    "            if x1 < x_ < x2 < x3 and f_x_ >= f2: # x* in [x_, x3]\n",
    "                x1 = deepcopy(x_)\n",
    "                f1 = deepcopy(f_x_)\n",
    "            elif x1 < x2 < x_ < x3 and f2 >= f_x_: # x* in [x2, x3]\n",
    "                x1 = deepcopy(x2)\n",
    "                f1 = deepcopy(f2)\n",
    "                x2 = deepcopy(x_)\n",
    "                f2 = deepcopy(f_x_)\n",
    "\n",
    "            iteration_num += 1\n",
    "            if intermediate_results:\n",
    "                print(f\"iteration_num = {iteration_num}; x1 = {x1}; x2 = {x2}; x3 = {x3}; f1 = {f1}; f2 = {f2}; f3 = {f3}\")\n",
    "            if intermediate_writing:\n",
    "                results = results.append({'x1': x1, 'x2': x2, 'x3': x3, 'f1': f1, 'f2': f2, 'f3': f3}, ignore_index=True)\n",
    "\n",
    "        f_res = F.subs(X, x_res)\n",
    "\n",
    "        if intermediate_writing:\n",
    "            print(results)\n",
    "\n",
    "        if figure:\n",
    "            p = plot(func, show=False)\n",
    "            fig, axe = get_sympy_subplots(p)\n",
    "            axe.plot(x_res, f_res, \"o\", c='red')\n",
    "            fig.show()\n",
    "\n",
    "        return x_res, f_res, 'Достигнуто максимальное количество итераций'\n",
    "    except:\n",
    "        return 'Выполнено с ошибкой'\n",
    "\n",
    "\n",
    "def BrantMethod(func: str,\n",
    "                    limits: list,\n",
    "                    accuracy: float=10**(-5),\n",
    "                    max_iterations: int=500,\n",
    "                    intermediate_results: bool=False,\n",
    "                    intermediate_writing: bool=False):\n",
    "    \n",
    "    r = (3 - 5**(1/2)) / 2\n",
    "    \n",
    "    a, b = limits\n",
    "    \n",
    "    x = a + r*(b - a)\n",
    "    w = a + r*(b - a)\n",
    "    v = a + r*(b - a)\n",
    "    \n",
    "    d_cur = a - b\n",
    "    d_prv = a - b\n",
    "    \n",
    "    results = pd.DataFrame(columns=['step_num', 'a', 'b', 'x', 'w', 'v', 'u'])\n",
    "    step_num = 0\n",
    "    while max(x - a, b - x) > accuracy:\n",
    "        \n",
    "        if step_num >= max_iterations:\n",
    "            if intermediate_results:\n",
    "                print(f'step_num: {step_num}, a: {a}, b: {b}, x: {x}, w: {w}, v: {w}, u: {u}')\n",
    "            if intermediate_writing:\n",
    "                print(result)\n",
    "                \n",
    "            return x, func(x), 'Достигнуто макисмальное количество итераций'\n",
    "            \n",
    "        g = d_prv / 2\n",
    "        d_prv = d_cur\n",
    "        u = center_point(F, x, w, v)\n",
    "        if not u or (u < a or u > b) or abs(u - x) > g:\n",
    "            if x < (a + b) / 2:\n",
    "                u = x + r*(b - x)\n",
    "                d_prv = b - x\n",
    "            else:\n",
    "                u = x - r*(x - a)\n",
    "                d_prv = (x - a)\n",
    "        d_cur = abs(u - x)\n",
    "        \n",
    "        if func(u) > func(x):\n",
    "            if u < x:\n",
    "                a = u\n",
    "            else:\n",
    "                b = u\n",
    "            if func(u) <= func(w) or w == x:\n",
    "                v = w\n",
    "                w = u\n",
    "            else:\n",
    "                if func(u) <= func(v) or v == x or v == w:\n",
    "                    v = u\n",
    "        else:\n",
    "            if u < x:\n",
    "                b = x\n",
    "            else:\n",
    "                a = x\n",
    "            v = w\n",
    "            w = x\n",
    "            x = u\n",
    "        step_num += 1\n",
    "        if intermediate_results:\n",
    "            print(f'step_num: {step_num}, a: {a}, b: {b}, x: {x}, w: {w}, v: {w}, u: {u}')\n",
    "        if intermediate_writing:\n",
    "            results = results.append({'step_num': step_num, 'a': a, 'b': b, \n",
    "                                      'x': x, 'w': w, 'v': v, 'u': u}, ignore_index=True)\n",
    "            \n",
    "    if intermediate_writing:\n",
    "                print(result)\n",
    "    \n",
    "    return x, func(x), 'Достигнута заданная точность'\n",
    "\n",
    "  \n",
    "def bfgs(func, diff_func, x0, extreme_type='min', accuracy=10**-5, maxarg=100,\n",
    "         firstW=10**-4, secondW=0.1, maxiter=500, interim_results=False,\n",
    "         dataset_rec=False):\n",
    "    \"\"\"\n",
    "    Minimize or maximize a function using the BFGS algorithm.\n",
    "    Parameters\n",
    "    ----------\n",
    "    func : callable ``f(x)``\n",
    "        Objective function to be minimized or maximized.\n",
    "    diff_func : callable ``f'(x)``\n",
    "        Objective function gradient.\n",
    "    x0 : float, int\n",
    "        Starting point.\n",
    "    extreme_type : str, optional\n",
    "        Maximizing or minimizing.\n",
    "    accuracy : float, optional\n",
    "        Gradient norm (abs) in x0 must be less than `accuracy` before successful\n",
    "        termination.\n",
    "    maxarg : float, int, optional\n",
    "        Maximum value of the argument function.\n",
    "    firstW : int or ndarray, optional\n",
    "        Parameter for Armijo condition rule.\n",
    "    secondW : callable, optional\n",
    "        Parameter for curvature condition rule.\n",
    "    maxiter : int, optional\n",
    "        Maximum number of iterations to perform.\n",
    "    interim_results : bool, optional\n",
    "        If True, print intermediate results.\n",
    "    dataset_rec : bool, optional\n",
    "        If True, an entry in pandas.DataFrame intermediate results.\n",
    "    Examples\n",
    "    --------\n",
    "    >>> from HW2.OneDimOptimization import bfgs\n",
    "    >>> def f(x):\n",
    "    ...     return -x/(x**2+2)\n",
    "    ... def f1(x):\n",
    "    ...     return 2*x**2/(x**2+2)**2 - 1/(x**2+2)\n",
    "    >>> bfgs(f, f1, 1, maxiter=5000, extreme_type='max')\n",
    "    {'point': -1.4142509823545781,\n",
    "     'value_func': 0.35355339046951084,\n",
    "     'report': 1,\n",
    "     'interim_results_dataset': None}\n",
    "    >>> bfgs(f, f1, 1, maxiter=5000)\n",
    "    {'point': 1.4142144676627526,\n",
    "     'value_func': -0.35355339059320134,\n",
    "     'report': 1,\n",
    "     'interim_results_dataset': None}\n",
    "    \"\"\"\n",
    "    if extreme_type == 'max':\n",
    "        f = lambda x: -func(x)\n",
    "        diff_f = lambda x: -diff_func(x)\n",
    "    res = {'point': None, 'value_func': None, 'report': None,\n",
    "           'interim_results_dataset': None}\n",
    "    dataset = []\n",
    "    iterat = 0\n",
    "    if extreme_type == 'max':\n",
    "        g = diff_f(x0)\n",
    "    else:\n",
    "        g = diff_func(x0)\n",
    "    Hk = 1  # is initial approximation\n",
    "    xk = x0\n",
    "    while abs(g) > accuracy and iterat < maxiter and xk < maxarg:\n",
    "        iterat += 1\n",
    "        if dataset_rec:\n",
    "            dataset.append([xk, func(xk), g, Hk])\n",
    "        if interim_results:\n",
    "            print(f'''{iterat}:\n",
    "            xk = {xk}    f(xk) = {func(xk)}    g = {g}    Hk = {Hk}''')\n",
    "        pk = -Hk * g\n",
    "        try:\n",
    "            if extreme_type == 'max':\n",
    "                line_search = optimize.line_search(f, diff_f, np.array(xk),\n",
    "                                                   np.array(pk), c1=firstW,\n",
    "                                                   c2=secondW)\n",
    "            else:\n",
    "                line_search = optimize.line_search(func, diff_func, np.array(xk),\n",
    "                                                   np.array(pk), c1=firstW,\n",
    "                                                   c2=secondW)\n",
    "            if line_search[0]:\n",
    "                alpha_k = line_search[0]\n",
    "            else:\n",
    "                print('не смогли найти лучшее приближение')\n",
    "                res['report'] = 4\n",
    "                break\n",
    "        except optimize.linesearch.LineSearchWarning:\n",
    "            print('не смогли найти лучшее приближение')\n",
    "            res['report'] = 4\n",
    "            break\n",
    "        xkp = xk + alpha_k * pk\n",
    "        sk = xkp - xk\n",
    "        xk = xkp\n",
    "        if extreme_type == 'max':\n",
    "            g2 = diff_f(xk)\n",
    "        else:\n",
    "            g2 = diff_func(xkp)\n",
    "        yk = g2 - g\n",
    "        g = g2\n",
    "\n",
    "        rho = 1.0 / (yk * sk)\n",
    "        A1 = 1 - rho * sk * yk\n",
    "        A2 = 1 - rho * yk * sk\n",
    "        Hk = A1 * Hk * A2 + (rho * sk**2)\n",
    "\n",
    "\n",
    "    res['point'] = xk\n",
    "    res['value_func'] = func(xk)\n",
    "    if dataset_rec:\n",
    "        res['interim_results_dataset'] = pd.DataFrame(dataset,\n",
    "                                                      columns=['xk', 'f', 'g', 'Hk'])\n",
    "    if abs(g) <= accuracy and res['report'] != 4:\n",
    "        res['report'] = 1\n",
    "    elif iterat == maxiter and res['report'] != 4:\n",
    "        res['report'] = 2\n",
    "    elif xk >= maxarg and res['report'] != 4:\n",
    "        res['report'] = 3\n",
    "    return res"
   ]
  },
  {
   "cell_type": "code",
   "execution_count": 2,
   "metadata": {},
   "outputs": [
    {
     "data": {
      "text/plain": [
       "{'point': 2.052817948735756e-06,\n",
       " 'value_func': 5.00000000000421,\n",
       " 'report': 0,\n",
       " 'interim_results_dataset': None}"
      ]
     },
     "execution_count": 2,
     "metadata": {},
     "output_type": "execute_result"
    }
   ],
   "source": [
    "golden_ratio('x**2+5', search_area = [-10, 10])"
   ]
  },
  {
   "cell_type": "code",
   "execution_count": 3,
   "metadata": {},
   "outputs": [
    {
     "data": {
      "text/plain": [
       "(0.0, 5, 'Достигнуто максимальное количество итераций')"
      ]
     },
     "execution_count": 3,
     "metadata": {},
     "output_type": "execute_result"
    }
   ],
   "source": [
    "parabola_method('X**2+5', limits='[-10, 10]', figure=False)"
   ]
  },
  {
   "cell_type": "code",
   "execution_count": 9,
   "metadata": {},
   "outputs": [],
   "source": [
    "def f(x):\n",
    "    return  x**2+5\n",
    "def f1(x):\n",
    "    return  2*x\n"
   ]
  },
  {
   "cell_type": "code",
   "execution_count": 22,
   "metadata": {},
   "outputs": [
    {
     "data": {
      "text/plain": [
       "(1.9736532008703576e-16, 5.0, 'Достигнута заданная точность')"
      ]
     },
     "execution_count": 22,
     "metadata": {},
     "output_type": "execute_result"
    }
   ],
   "source": [
    "def F(x):\n",
    "    return  x**2+5\n",
    "BrantMethod(F, limits=[-10, 10])"
   ]
  },
  {
   "cell_type": "code",
   "execution_count": 11,
   "metadata": {},
   "outputs": [
    {
     "data": {
      "text/plain": [
       "{'point': 0.0, 'value_func': 5.0, 'report': 1, 'interim_results_dataset': None}"
      ]
     },
     "execution_count": 11,
     "metadata": {},
     "output_type": "execute_result"
    }
   ],
   "source": [
    "bfgs(f, f1, x0=3)"
   ]
  },
  {
   "cell_type": "code",
   "execution_count": 12,
   "metadata": {},
   "outputs": [],
   "source": [
    "def f(x):\n",
    "    return x**4+x**2+x+1\n",
    "def f1(x):\n",
    "    return 4*x**3 + 2*x + 1"
   ]
  },
  {
   "cell_type": "code",
   "execution_count": 13,
   "metadata": {},
   "outputs": [
    {
     "data": {
      "text/plain": [
       "{'point': -0.3854574897423595,\n",
       " 'value_func': 0.785195253149063,\n",
       " 'report': 0,\n",
       " 'interim_results_dataset': None}"
      ]
     },
     "execution_count": 13,
     "metadata": {},
     "output_type": "execute_result"
    }
   ],
   "source": [
    "golden_ratio('x**4+x**2+x+1', search_area = [-1, 0])"
   ]
  },
  {
   "cell_type": "code",
   "execution_count": 14,
   "metadata": {},
   "outputs": [
    {
     "name": "stderr",
     "output_type": "stream",
     "text": [
      "<ipython-input-8-dc01166642bb>:242: UserWarning: Matplotlib is currently using module://ipykernel.pylab.backend_inline, which is a non-GUI backend, so cannot show the figure.\n",
      "  fig.show()\n"
     ]
    },
    {
     "data": {
      "text/plain": [
       "(-0.37414500683994534,\n",
       " 0.785435135664111,\n",
       " 'Достигнуто максимальное количество итераций')"
      ]
     },
     "execution_count": 14,
     "metadata": {},
     "output_type": "execute_result"
    },
    {
     "data": {
      "image/png": "[encoded data removed]",
      "text/plain": [
       "<Figure size 432x288 with 1 Axes>"
      ]
     },
     "metadata": {
      "needs_background": "light"
     },
     "output_type": "display_data"
    }
   ],
   "source": [
    "parabola_method('X**4+X**2+X+1', limits='[-1, 0]')"
   ]
  },
  {
   "cell_type": "code",
   "execution_count": 15,
   "metadata": {},
   "outputs": [
    {
     "data": {
      "text/plain": [
       "(-0.38545849851819786, 0.785195253147138, 'Достигнута заданная точность')"
      ]
     },
     "execution_count": 15,
     "metadata": {},
     "output_type": "execute_result"
    }
   ],
   "source": [
    "def F(x):\n",
    "    return x**4+x**2+x+1\n",
    "BrantMethod(F, limits=[-1, 0])"
   ]
  },
  {
   "cell_type": "code",
   "execution_count": 17,
   "metadata": {},
   "outputs": [
    {
     "data": {
      "text/plain": [
       "{'point': -0.3854589403088574,\n",
       " 'value_func': 0.7851952531475073,\n",
       " 'report': 1,\n",
       " 'interim_results_dataset': None}"
      ]
     },
     "execution_count": 17,
     "metadata": {},
     "output_type": "execute_result"
    }
   ],
   "source": [
    "bfgs(f, f1, x0=0)"
   ]
  },
  {
   "cell_type": "code",
   "execution_count": 18,
   "metadata": {},
   "outputs": [],
   "source": [
    "def f(x):\n",
    "    return np.exp(x)+1/x\n",
    "def f1(x):\n",
    "    return np.exp(x) - 1/x**2"
   ]
  },
  {
   "cell_type": "code",
   "execution_count": 19,
   "metadata": {},
   "outputs": [
    {
     "data": {
      "text/plain": [
       "{'point': 0.7034686122265748,\n",
       " 'value_func': 3.44227729450047,\n",
       " 'report': 0,\n",
       " 'interim_results_dataset': None}"
      ]
     },
     "execution_count": 19,
     "metadata": {},
     "output_type": "execute_result"
    }
   ],
   "source": [
    "golden_ratio('exp(x)+1/x', search_area = [0.5, 1.5])"
   ]
  },
  {
   "cell_type": "code",
   "execution_count": 20,
   "metadata": {},
   "outputs": [
    {
     "name": "stderr",
     "output_type": "stream",
     "text": [
      "<ipython-input-8-dc01166642bb>:242: UserWarning: Matplotlib is currently using module://ipykernel.pylab.backend_inline, which is a non-GUI backend, so cannot show the figure.\n",
      "  fig.show()\n"
     ]
    },
    {
     "data": {
      "text/plain": [
       "(0.7244359150468127,\n",
       " 3.44395109505146,\n",
       " 'Достигнуто максимальное количество итераций')"
      ]
     },
     "execution_count": 20,
     "metadata": {},
     "output_type": "execute_result"
    },
    {
     "data": {
      "image/png": "[encoded data removed]",
      "text/plain": [
       "<Figure size 432x288 with 1 Axes>"
      ]
     },
     "metadata": {
      "needs_background": "light"
     },
     "output_type": "display_data"
    }
   ],
   "source": [
    "parabola_method('exp(X)+1/X', limits='[0.5, 1.5]')"
   ]
  },
  {
   "cell_type": "code",
   "execution_count": 23,
   "metadata": {},
   "outputs": [
    {
     "data": {
      "text/plain": [
       "(0.7034674218656566, 3.442277294494974, 'Достигнута заданная точность')"
      ]
     },
     "execution_count": 23,
     "metadata": {},
     "output_type": "execute_result"
    }
   ],
   "source": [
    "def F(x):\n",
    "    return np.exp(x)+1/x\n",
    "BrantMethod(F, limits=[0.5, 1.5])"
   ]
  },
  {
   "cell_type": "code",
   "execution_count": 24,
   "metadata": {},
   "outputs": [
    {
     "name": "stdout",
     "output_type": "stream",
     "text": [
      "не смогли найти лучшее приближение\n"
     ]
    },
    {
     "name": "stderr",
     "output_type": "stream",
     "text": [
      "E:\\Anaconda\\lib\\site-packages\\scipy\\optimize\\linesearch.py:327: LineSearchWarning: The line search algorithm did not converge\n",
      "  warn('The line search algorithm did not converge', LineSearchWarning)\n"
     ]
    },
    {
     "data": {
      "text/plain": [
       "{'point': 1,\n",
       " 'value_func': 3.718281828459045,\n",
       " 'report': 4,\n",
       " 'interim_results_dataset': None}"
      ]
     },
     "execution_count": 24,
     "metadata": {},
     "output_type": "execute_result"
    }
   ],
   "source": [
    "bfgs(f, f1, x0=1)"
   ]
  },
  {
   "cell_type": "code",
   "execution_count": 25,
   "metadata": {},
   "outputs": [],
   "source": [
    "def f(x):\n",
    "    return x**2-2*x+np.exp(-x)\n",
    "def f1(x):\n",
    "    return 2*x - 2 - np.exp(-x)"
   ]
  },
  {
   "cell_type": "code",
   "execution_count": 26,
   "metadata": {},
   "outputs": [
    {
     "data": {
      "text/plain": [
       "{'point': 1.1571848250458614,\n",
       " 'value_func': -0.660922988059385,\n",
       " 'report': 0,\n",
       " 'interim_results_dataset': None}"
      ]
     },
     "execution_count": 26,
     "metadata": {},
     "output_type": "execute_result"
    }
   ],
   "source": [
    "golden_ratio(func='x**2-2*x+exp(-x)', search_area=(-1, 1.5))"
   ]
  },
  {
   "cell_type": "code",
   "execution_count": 27,
   "metadata": {},
   "outputs": [
    {
     "name": "stderr",
     "output_type": "stream",
     "text": [
      "<ipython-input-8-dc01166642bb>:242: UserWarning: Matplotlib is currently using module://ipykernel.pylab.backend_inline, which is a non-GUI backend, so cannot show the figure.\n",
      "  fig.show()\n"
     ]
    },
    {
     "data": {
      "text/plain": [
       "(1.1574408488928294,\n",
       " -0.660922912283779,\n",
       " 'Достигнуто максимальное количество итераций')"
      ]
     },
     "execution_count": 27,
     "metadata": {},
     "output_type": "execute_result"
    },
    {
     "data": {
      "image/png": "[encoded data removed]",
      "text/plain": [
       "<Figure size 432x288 with 1 Axes>"
      ]
     },
     "metadata": {
      "needs_background": "light"
     },
     "output_type": "display_data"
    }
   ],
   "source": [
    "parabola_method('X**2-2*X+exp(-X)', limits='[-1, 1.5]')"
   ]
  },
  {
   "cell_type": "code",
   "execution_count": 28,
   "metadata": {},
   "outputs": [
    {
     "data": {
      "text/plain": [
       "(1.15718495355366, -0.660922988059403, 'Достигнута заданная точность')"
      ]
     },
     "execution_count": 28,
     "metadata": {},
     "output_type": "execute_result"
    }
   ],
   "source": [
    "def F(x):\n",
    "    return x**2-2*x+exp(-x)\n",
    "BrantMethod(F, limits=[-1, 1.5])"
   ]
  },
  {
   "cell_type": "code",
   "execution_count": 29,
   "metadata": {},
   "outputs": [
    {
     "data": {
      "text/plain": [
       "{'point': 1.1571849508274354,\n",
       " 'value_func': -0.660922988059403,\n",
       " 'report': 1,\n",
       " 'interim_results_dataset': None}"
      ]
     },
     "execution_count": 29,
     "metadata": {},
     "output_type": "execute_result"
    }
   ],
   "source": [
    "bfgs(f, f1, x0=1)"
   ]
  },
  {
   "cell_type": "code",
   "execution_count": 30,
   "metadata": {},
   "outputs": [],
   "source": [
    "def f(x):\n",
    "    return -3*x*np.sin(0.75*x)+np.exp(-2*x)\n",
    "def f1(x):\n",
    "    return -2.25*x*np.cos(0.75*x) - 3*np.sin(0.75*x) - 2*np.exp(-2*x)"
   ]
  },
  {
   "cell_type": "code",
   "execution_count": 31,
   "metadata": {},
   "outputs": [
    {
     "data": {
      "text/plain": [
       "{'point': 2.7064759148330357,\n",
       " 'value_func': -7.27435797007356,\n",
       " 'report': 0,\n",
       " 'interim_results_dataset': None}"
      ]
     },
     "execution_count": 31,
     "metadata": {},
     "output_type": "execute_result"
    }
   ],
   "source": [
    "golden_ratio(func='-3*x*sin(0.75*x)+exp(-2*x)', search_area=(0, 2*np.pi))"
   ]
  },
  {
   "cell_type": "code",
   "execution_count": 32,
   "metadata": {},
   "outputs": [
    {
     "name": "stderr",
     "output_type": "stream",
     "text": [
      "<ipython-input-8-dc01166642bb>:242: UserWarning: Matplotlib is currently using module://ipykernel.pylab.backend_inline, which is a non-GUI backend, so cannot show the figure.\n",
      "  fig.show()\n"
     ]
    },
    {
     "data": {
      "text/plain": [
       "(2.29642407867976,\n",
       " -6.80021461227076,\n",
       " 'Достигнуто максимальное количество итераций')"
      ]
     },
     "execution_count": 32,
     "metadata": {},
     "output_type": "execute_result"
    },
    {
     "data": {
      "image/png": "[encoded data removed]",
      "text/plain": [
       "<Figure size 432x288 with 1 Axes>"
      ]
     },
     "metadata": {
      "needs_background": "light"
     },
     "output_type": "display_data"
    }
   ],
   "source": [
    "parabola_method('-3*X*sin(0.75*X)+exp(-2*X)', limits='[0, 2*pi]')"
   ]
  },
  {
   "cell_type": "code",
   "execution_count": 33,
   "metadata": {},
   "outputs": [
    {
     "data": {
      "text/plain": [
       "(2.70647558205328, -7.27435797007390, 'Достигнута заданная точность')"
      ]
     },
     "execution_count": 33,
     "metadata": {},
     "output_type": "execute_result"
    }
   ],
   "source": [
    "def F(x):\n",
    "    return -3*x*sin(0.75*x)+exp(-2*x)\n",
    "BrantMethod(F, limits=[0, 2*np.pi])"
   ]
  },
  {
   "cell_type": "code",
   "execution_count": 34,
   "metadata": {},
   "outputs": [
    {
     "data": {
      "text/plain": [
       "{'point': 2.706475565719076,\n",
       " 'value_func': -7.2743579700739005,\n",
       " 'report': 1,\n",
       " 'interim_results_dataset': None}"
      ]
     },
     "execution_count": 34,
     "metadata": {},
     "output_type": "execute_result"
    }
   ],
   "source": [
    "bfgs(f, f1, x0=2)"
   ]
  },
  {
   "cell_type": "code",
   "execution_count": null,
   "metadata": {},
   "outputs": [],
   "source": []
  }
 ],
 "metadata": {
  "kernelspec": {
   "display_name": "Python 3",
   "language": "python",
   "name": "python3"
  },
  "language_info": {
   "codemirror_mode": {
    "name": "ipython",
    "version": 3
   },
   "file_extension": ".py",
   "mimetype": "text/x-python",
   "name": "python",
   "nbconvert_exporter": "python",
   "pygments_lexer": "ipython3",
   "version": "3.8.5"
  }
 },
 "nbformat": 4,
 "nbformat_minor": 4
}
