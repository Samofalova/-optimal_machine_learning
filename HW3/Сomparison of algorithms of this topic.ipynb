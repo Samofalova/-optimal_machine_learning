{
 "cells": [
  {
   "cell_type": "code",
   "execution_count": 1,
   "id": "5002a335",
   "metadata": {},
   "outputs": [],
   "source": [
    "from gradient import *"
   ]
  },
  {
   "cell_type": "code",
   "execution_count": 2,
   "id": "804643f0",
   "metadata": {},
   "outputs": [],
   "source": [
    "def f(x, y):\n",
    "        return x**2 + y**2\n",
    "def pf(x, y):\n",
    "    return np.array([2*x, 2*y])\n",
    "def f_diff_2x(x, y):\n",
    "    return np.array([2, 2])\n",
    "def f_diff_xy(x, y):\n",
    "    return np.array([0, 0])"
   ]
  },
  {
   "cell_type": "code",
   "execution_count": 3,
   "id": "8c0fbfaf",
   "metadata": {},
   "outputs": [
    {
     "name": "stdout",
     "output_type": "stream",
     "text": [
      "685 µs ± 5.08 µs per loop (mean ± std. dev. of 7 runs, 1000 loops each)\n"
     ]
    }
   ],
   "source": [
    "%%timeit\n",
    "GD(f, pf, lr_rate=0.05)"
   ]
  },
  {
   "cell_type": "code",
   "execution_count": 4,
   "id": "b8dfcb8a",
   "metadata": {},
   "outputs": [
    {
     "name": "stdout",
     "output_type": "stream",
     "text": [
      "564 µs ± 6.55 µs per loop (mean ± std. dev. of 7 runs, 1000 loops each)\n"
     ]
    }
   ],
   "source": [
    "%%timeit\n",
    "GDSS(f, pf, lr_rate=0.05)"
   ]
  },
  {
   "cell_type": "code",
   "execution_count": 5,
   "id": "76db2ca4",
   "metadata": {},
   "outputs": [
    {
     "name": "stdout",
     "output_type": "stream",
     "text": [
      "217 µs ± 347 ns per loop (mean ± std. dev. of 7 runs, 1000 loops each)\n"
     ]
    }
   ],
   "source": [
    "%%timeit\n",
    "GDSteepest(f, pf)"
   ]
  },
  {
   "cell_type": "code",
   "execution_count": 6,
   "id": "f1b54112",
   "metadata": {},
   "outputs": [
    {
     "name": "stdout",
     "output_type": "stream",
     "text": [
      "40.9 µs ± 231 ns per loop (mean ± std. dev. of 7 runs, 10000 loops each)\n"
     ]
    }
   ],
   "source": [
    "%%timeit\n",
    "newton_algorithm(f, pf, f_diff_2x, f_diff_xy)"
   ]
  },
  {
   "cell_type": "code",
   "execution_count": 3,
   "id": "4b166a51",
   "metadata": {},
   "outputs": [
    {
     "name": "stdout",
     "output_type": "stream",
     "text": [
      "iterations: 92\n"
     ]
    },
    {
     "data": {
      "text/plain": [
       "{'point': [6.170365191715173e-05, 6.170365191715173e-05],\n",
       " 'value_func': 7.614681319826045e-09,\n",
       " 'report': 0,\n",
       " 'interim_results_dataset': None}"
      ]
     },
     "execution_count": 3,
     "metadata": {},
     "output_type": "execute_result"
    }
   ],
   "source": [
    "GD(f, pf, lr_rate=0.05)"
   ]
  },
  {
   "cell_type": "code",
   "execution_count": 4,
   "id": "2c1c650f",
   "metadata": {},
   "outputs": [
    {
     "name": "stdout",
     "output_type": "stream",
     "text": [
      "iterations: 42\n"
     ]
    },
    {
     "data": {
      "text/plain": [
       "{'point': [0.02791984039794503, 0.02791984039794503],\n",
       " 'value_func': 0.0015590349756934466,\n",
       " 'report': 0,\n",
       " 'interim_results_dataset': None}"
      ]
     },
     "execution_count": 4,
     "metadata": {},
     "output_type": "execute_result"
    }
   ],
   "source": [
    "GDSS(f, pf, lr_rate=0.05)"
   ]
  },
  {
   "cell_type": "code",
   "execution_count": 5,
   "id": "eda5315a",
   "metadata": {},
   "outputs": [
    {
     "name": "stdout",
     "output_type": "stream",
     "text": [
      "iterations: 2\n"
     ]
    },
    {
     "data": {
      "text/plain": [
       "{'point': [4.930380657631324e-32, 4.930380657631324e-32],\n",
       " 'value_func': 4.861730685829017e-63,\n",
       " 'report': 0,\n",
       " 'interim_results_dataset': None}"
      ]
     },
     "execution_count": 5,
     "metadata": {},
     "output_type": "execute_result"
    }
   ],
   "source": [
    "GDSteepest(f, pf)"
   ]
  },
  {
   "cell_type": "code",
   "execution_count": 6,
   "id": "8885cdc4",
   "metadata": {},
   "outputs": [
    {
     "name": "stdout",
     "output_type": "stream",
     "text": [
      "iterations: 1\n"
     ]
    },
    {
     "data": {
      "text/plain": [
       "(array([[0.],\n",
       "        [0.]]),\n",
       " 0.0)"
      ]
     },
     "execution_count": 6,
     "metadata": {},
     "output_type": "execute_result"
    }
   ],
   "source": [
    "newton_algorithm(f, pf, f_diff_2x, f_diff_xy)"
   ]
  },
  {
   "cell_type": "code",
   "execution_count": null,
   "id": "b55152fb",
   "metadata": {},
   "outputs": [],
   "source": []
  }
 ],
 "metadata": {
  "kernelspec": {
   "display_name": "Python 3 (ipykernel)",
   "language": "python",
   "name": "python3"
  },
  "language_info": {
   "codemirror_mode": {
    "name": "ipython",
    "version": 3
   },
   "file_extension": ".py",
   "mimetype": "text/x-python",
   "name": "python",
   "nbconvert_exporter": "python",
   "pygments_lexer": "ipython3",
   "version": "3.9.7"
  }
 },
 "nbformat": 4,
 "nbformat_minor": 5
}
