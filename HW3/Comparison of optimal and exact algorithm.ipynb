{
 "cells": [
  {
   "cell_type": "code",
   "execution_count": 1,
   "id": "5c20ff45",
   "metadata": {},
   "outputs": [],
   "source": [
    "from gradient import *"
   ]
  },
  {
   "cell_type": "code",
   "execution_count": 58,
   "id": "08e2b78a",
   "metadata": {},
   "outputs": [],
   "source": [
    "import sympy as sp\n",
    "import scipy.linalg as la\n",
    "import numpy as np\n",
    "from sympy import I, sin, cos, log, pi, tan, sqrt, exp\n",
    "from functools import partial\n",
    "\n",
    "\n",
    "def get_data(text, f):\n",
    "    \"\"\"\n",
    "    Initial function for data entry\n",
    "    return data with variables and math function\n",
    "    \"\"\"\n",
    "    data = dict()\n",
    "    data['X'] = sp.symbols(text)\n",
    "    assert len(data['X']) == 2, 'переменные заданы неверно'\n",
    "\n",
    "    data['func'] = sp.Matrix([f])\n",
    "\n",
    "\n",
    "    return data\n",
    "\n",
    "\n",
    "def get_crit(func: sp.Matrix, X: list):\n",
    "    \"\"\"\n",
    "    func: sympy.Matrix(['x + y']),\n",
    "    X: [sympy.Symbol('x'), sympy.Symbol('y')]\n",
    "    return critical points\n",
    "    \"\"\"\n",
    "    gradf = sp.simplify(func.jacobian(X))\n",
    "    return sp.solve(gradf, X, dict=True)\n",
    "\n",
    "\n",
    "def type_point(func, X, x0):\n",
    "    \"\"\"\n",
    "    func: sympy.Matrix(['x + y']),\n",
    "    X: [sympy.Symbol('x'), sympy.Symbol('y')],\n",
    "    x0: (1, 2) – tuple of int or float numbers, critical point\n",
    "    return type of critical points\n",
    "    \"\"\"\n",
    "    hessianf = sp.simplify(sp.hessian(func, X))\n",
    "    H = np.array(hessianf.subs(dict(zip(X, x0)))).astype('float')\n",
    "    l, v = la.eig(H)\n",
    "    if(np.all(np.greater(l, np.zeros(2)))):\n",
    "        return 'minimum'\n",
    "    elif(np.all(np.less(l, np.zeros(2)))):\n",
    "        return 'maximum'\n",
    "    else:\n",
    "        return 'saddle'\n",
    "\n",
    "\n",
    "def get_extremums():\n",
    "    \"\"\"\n",
    "    returns a tuple from the source data and the results of the function.\n",
    "    data: dict - dictionary of source data, stores the name of variables,\n",
    "    function, constraints.\n",
    "    points: list – a list of tuples, each element stores a point,\n",
    "    the value of the function at the point and the type of extremum.\n",
    "    \"\"\"\n",
    "    data = get_data('x1 x2', '1/(1+x1**2)+1/(1+x2**2)')\n",
    "    crit = get_crit(data['func'], data['X'])\n",
    "    return crit\n",
    "\n",
    "    if len(crit) > 40:\n",
    "        n = int(input('Точек больше 40, сколько вывести? '))\n",
    "        crit = crit[:n]\n",
    "    points = []\n",
    "    for x in crit:\n",
    "        if len(x) == 2:\n",
    "            x1, x2 = x.values()\n",
    "            z = data['func'].subs(x)[0]\n",
    "            try:\n",
    "                type_x = type_point(data['func'], data['X'], x.values())\n",
    "                points.append(((x1, x2), z, type_x))\n",
    "            except (ValueError, TypeError):\n",
    "                points.append((x, 'crit point'))\n",
    "                continue \n",
    "        else:\n",
    "            points.append((x, 'crit point'))\n",
    "        \n",
    "    return data, points"
   ]
  },
  {
   "cell_type": "code",
   "execution_count": 60,
   "id": "fba4f71f",
   "metadata": {},
   "outputs": [
    {
     "name": "stdout",
     "output_type": "stream",
     "text": [
      "12.2 ms ± 234 µs per loop (mean ± std. dev. of 7 runs, 100 loops each)\n"
     ]
    }
   ],
   "source": [
    "%%timeit\n",
    "\n",
    "get_extremums()"
   ]
  },
  {
   "cell_type": "code",
   "execution_count": 59,
   "id": "3027599a",
   "metadata": {},
   "outputs": [
    {
     "data": {
      "text/plain": [
       "[{x1: 0, x2: 0}]"
      ]
     },
     "execution_count": 59,
     "metadata": {},
     "output_type": "execute_result"
    }
   ],
   "source": [
    "get_extremums()"
   ]
  },
  {
   "cell_type": "code",
   "execution_count": 2,
   "id": "15a9a166",
   "metadata": {},
   "outputs": [],
   "source": [
    "def f(x, y):\n",
    "    return 1/(1+x**2)+1/(1+y**2)\n",
    "\n",
    "def pf(x, y):\n",
    "    return [-2*x/(x**2 + 1)**2, -2*y/(y**2 + 1)**2]"
   ]
  },
  {
   "cell_type": "code",
   "execution_count": 3,
   "id": "9c22983b",
   "metadata": {},
   "outputs": [
    {
     "name": "stdout",
     "output_type": "stream",
     "text": [
      "1.47 ms ± 16 µs per loop (mean ± std. dev. of 7 runs, 1000 loops each)\n"
     ]
    }
   ],
   "source": [
    "%%timeit\n",
    "\n",
    "GDSS(f, pf)"
   ]
  },
  {
   "cell_type": "code",
   "execution_count": 4,
   "id": "3e4b127c",
   "metadata": {},
   "outputs": [
    {
     "data": {
      "text/plain": [
       "{'point': [2.8287095413366843, 2.8287095413366843],\n",
       " 'value_func': 0.2221827806004149,\n",
       " 'report': 0,\n",
       " 'interim_results_dataset': None}"
      ]
     },
     "execution_count": 4,
     "metadata": {},
     "output_type": "execute_result"
    }
   ],
   "source": [
    "GDSS(f, pf)"
   ]
  },
  {
   "cell_type": "code",
   "execution_count": null,
   "id": "666b3117",
   "metadata": {},
   "outputs": [],
   "source": []
  }
 ],
 "metadata": {
  "kernelspec": {
   "display_name": "Python 3 (ipykernel)",
   "language": "python",
   "name": "python3"
  },
  "language_info": {
   "codemirror_mode": {
    "name": "ipython",
    "version": 3
   },
   "file_extension": ".py",
   "mimetype": "text/x-python",
   "name": "python",
   "nbconvert_exporter": "python",
   "pygments_lexer": "ipython3",
   "version": "3.9.7"
  }
 },
 "nbformat": 4,
 "nbformat_minor": 5
}
