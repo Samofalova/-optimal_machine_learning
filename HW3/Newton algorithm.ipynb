{
 "cells": [
  {
   "cell_type": "code",
   "execution_count": 34,
   "id": "dd16f7b7",
   "metadata": {},
   "outputs": [],
   "source": [
    "from sympy import *\n",
    "import numpy as np"
   ]
  },
  {
   "cell_type": "code",
   "execution_count": 266,
   "id": "c2ff7911",
   "metadata": {},
   "outputs": [],
   "source": [
    "def newton_algorithm(func):\n",
    "    \n",
    "    x0 = np.ones((2, 1))\n",
    "    x, y, alpha = symbols('x y alpha')\n",
    "    F = eval(func)\n",
    "    \n",
    "    lambda_ = 3\n",
    "    d2_x, d2_y, d2_xy = diff(F, x, x), diff(F, y, y), diff(F, x, y)\n",
    "    xy = np.array([d2_x, d2_y]).reshape((2, 1))\n",
    "    matrix = np.array([[d2_x, d2_xy],\n",
    "                      [d2_xy, d2_y]]).astype('float')\n",
    "    matrix_inv = np.linalg.inv(matrix)\n",
    "    \n",
    "    x_next = (x0 - alpha * np.dot(matrix_inv, xy))\n",
    "    x_ = (x0 - alpha * np.dot(matrix_inv, xy))[0][0]\n",
    "    y_ = (x0 - alpha * np.dot(matrix_inv, xy))[1][0]\n",
    "    \n",
    "    alpha_ = solve(F.subs([(x, x_), (y, y_)]), dict=True)[0][alpha]\n",
    "    \n",
    "    x_ = x_.subs(alpha, alpha_)\n",
    "    y_ = y_.subs(alpha, alpha_)\n",
    "    x1 = np.array([x_, y_]).astype('float')\n",
    "\n",
    "    return x1\n",
    "    \n",
    "    "
   ]
  },
  {
   "cell_type": "code",
   "execution_count": 267,
   "id": "4f18c36f",
   "metadata": {},
   "outputs": [
    {
     "data": {
      "text/plain": [
       "array([0., 0.])"
      ]
     },
     "execution_count": 267,
     "metadata": {},
     "output_type": "execute_result"
    }
   ],
   "source": [
    "newton_algorithm('9*x**2 + y**2')"
   ]
  },
  {
   "cell_type": "code",
   "execution_count": 72,
   "id": "82dae0e2",
   "metadata": {},
   "outputs": [
    {
     "data": {
      "text/plain": [
       "array([[1.],\n",
       "       [1.]])"
      ]
     },
     "execution_count": 72,
     "metadata": {},
     "output_type": "execute_result"
    }
   ],
   "source": [
    "np.ones("
   ]
  },
  {
   "cell_type": "code",
   "execution_count": null,
   "id": "ffc64fdb",
   "metadata": {},
   "outputs": [],
   "source": []
  },
  {
   "cell_type": "code",
   "execution_count": null,
   "id": "ce47742c",
   "metadata": {},
   "outputs": [],
   "source": []
  }
 ],
 "metadata": {
  "kernelspec": {
   "display_name": "Python 3 (ipykernel)",
   "language": "python",
   "name": "python3"
  },
  "language_info": {
   "codemirror_mode": {
    "name": "ipython",
    "version": 3
   },
   "file_extension": ".py",
   "mimetype": "text/x-python",
   "name": "python",
   "nbconvert_exporter": "python",
   "pygments_lexer": "ipython3",
   "version": "3.9.7"
  }
 },
 "nbformat": 4,
 "nbformat_minor": 5
}
